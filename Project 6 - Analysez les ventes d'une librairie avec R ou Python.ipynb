{
 "cells": [
  {
   "cell_type": "markdown",
   "id": "04b856e3",
   "metadata": {},
   "source": [
    "# Analysez les ventes d'une librairie avec R ou Python\n",
    "## Objectifs de la présentation :\n",
    "### MISSION 1\n",
    "#### 1. Une analyse des différents indicateurs et graphiques autour du chiffres d’affaires.\n",
    "#### 2. L’evolution dans le temps et une decomposition en moyenne mobile pour évaluer la tendance globale.\n",
    "#### 3. Faire un zoom sur les références, les tops, les flops, la repartition par catégorie.\n",
    "### MISSION 2\n",
    "#### 1. Une analyse plus ciblée sur les profils des clients. \n",
    "#### 2. La répartition du chiffre d’affaires entre clients via une courbe de Lorenz. \n",
    "#### 3. Regarder certaines correlations :\n",
    "####   - Le lien entre genre d'un clients et les catégories des livres achetés\n",
    "####   - Le lien entre l'âge des clients et le montant total des achats, la fréquence d'achat, la taille du panier moyen et les catégories des livres achetés.\n"
   ]
  },
  {
   "cell_type": "code",
   "execution_count": 1,
   "id": "bee2e024",
   "metadata": {},
   "outputs": [],
   "source": [
    "#importer des packages\n",
    "import pandas as pd\n",
    "import numpy as np\n",
    "import matplotlib.pyplot as plt\n",
    "import seaborn as sns\n",
    "import scipy.stats as stats\n",
    "import statsmodels.api as sm"
   ]
  },
  {
   "cell_type": "code",
   "execution_count": 2,
   "id": "c2fb4492",
   "metadata": {},
   "outputs": [],
   "source": [
    "#importer des dataframes\n",
    "customers = pd.read_csv(\"customers.csv\")\n",
    "products = pd.read_csv(\"products.csv\")\n",
    "transactions = pd.read_csv(\"transactions.csv\")"
   ]
  },
  {
   "cell_type": "code",
   "execution_count": 3,
   "id": "70ba1be7",
   "metadata": {
    "scrolled": true
   },
   "outputs": [
    {
     "data": {
      "text/html": [
       "<div>\n",
       "<style scoped>\n",
       "    .dataframe tbody tr th:only-of-type {\n",
       "        vertical-align: middle;\n",
       "    }\n",
       "\n",
       "    .dataframe tbody tr th {\n",
       "        vertical-align: top;\n",
       "    }\n",
       "\n",
       "    .dataframe thead th {\n",
       "        text-align: right;\n",
       "    }\n",
       "</style>\n",
       "<table border=\"1\" class=\"dataframe\">\n",
       "  <thead>\n",
       "    <tr style=\"text-align: right;\">\n",
       "      <th></th>\n",
       "      <th>client_id</th>\n",
       "      <th>sex</th>\n",
       "      <th>birth</th>\n",
       "    </tr>\n",
       "  </thead>\n",
       "  <tbody>\n",
       "    <tr>\n",
       "      <th>0</th>\n",
       "      <td>c_4410</td>\n",
       "      <td>f</td>\n",
       "      <td>1967</td>\n",
       "    </tr>\n",
       "    <tr>\n",
       "      <th>1</th>\n",
       "      <td>c_7839</td>\n",
       "      <td>f</td>\n",
       "      <td>1975</td>\n",
       "    </tr>\n",
       "    <tr>\n",
       "      <th>2</th>\n",
       "      <td>c_1699</td>\n",
       "      <td>f</td>\n",
       "      <td>1984</td>\n",
       "    </tr>\n",
       "    <tr>\n",
       "      <th>3</th>\n",
       "      <td>c_5961</td>\n",
       "      <td>f</td>\n",
       "      <td>1962</td>\n",
       "    </tr>\n",
       "    <tr>\n",
       "      <th>4</th>\n",
       "      <td>c_5320</td>\n",
       "      <td>m</td>\n",
       "      <td>1943</td>\n",
       "    </tr>\n",
       "  </tbody>\n",
       "</table>\n",
       "</div>"
      ],
      "text/plain": [
       "  client_id sex  birth\n",
       "0    c_4410   f   1967\n",
       "1    c_7839   f   1975\n",
       "2    c_1699   f   1984\n",
       "3    c_5961   f   1962\n",
       "4    c_5320   m   1943"
      ]
     },
     "execution_count": 3,
     "metadata": {},
     "output_type": "execute_result"
    }
   ],
   "source": [
    "#Afficher les 5 premières lignes du data frame pour vérifier que les données sont bien chargées.\n",
    "customers.head()"
   ]
  },
  {
   "cell_type": "code",
   "execution_count": 4,
   "id": "5f7e325c",
   "metadata": {},
   "outputs": [
    {
     "data": {
      "text/html": [
       "<div>\n",
       "<style scoped>\n",
       "    .dataframe tbody tr th:only-of-type {\n",
       "        vertical-align: middle;\n",
       "    }\n",
       "\n",
       "    .dataframe tbody tr th {\n",
       "        vertical-align: top;\n",
       "    }\n",
       "\n",
       "    .dataframe thead th {\n",
       "        text-align: right;\n",
       "    }\n",
       "</style>\n",
       "<table border=\"1\" class=\"dataframe\">\n",
       "  <thead>\n",
       "    <tr style=\"text-align: right;\">\n",
       "      <th></th>\n",
       "      <th>client_id</th>\n",
       "      <th>sex</th>\n",
       "      <th>birth</th>\n",
       "    </tr>\n",
       "  </thead>\n",
       "  <tbody>\n",
       "    <tr>\n",
       "      <th>8618</th>\n",
       "      <td>c_7920</td>\n",
       "      <td>m</td>\n",
       "      <td>1956</td>\n",
       "    </tr>\n",
       "    <tr>\n",
       "      <th>8619</th>\n",
       "      <td>c_7403</td>\n",
       "      <td>f</td>\n",
       "      <td>1970</td>\n",
       "    </tr>\n",
       "    <tr>\n",
       "      <th>8620</th>\n",
       "      <td>c_5119</td>\n",
       "      <td>m</td>\n",
       "      <td>1974</td>\n",
       "    </tr>\n",
       "    <tr>\n",
       "      <th>8621</th>\n",
       "      <td>c_5643</td>\n",
       "      <td>f</td>\n",
       "      <td>1968</td>\n",
       "    </tr>\n",
       "    <tr>\n",
       "      <th>8622</th>\n",
       "      <td>c_84</td>\n",
       "      <td>f</td>\n",
       "      <td>1982</td>\n",
       "    </tr>\n",
       "  </tbody>\n",
       "</table>\n",
       "</div>"
      ],
      "text/plain": [
       "     client_id sex  birth\n",
       "8618    c_7920   m   1956\n",
       "8619    c_7403   f   1970\n",
       "8620    c_5119   m   1974\n",
       "8621    c_5643   f   1968\n",
       "8622      c_84   f   1982"
      ]
     },
     "execution_count": 4,
     "metadata": {},
     "output_type": "execute_result"
    }
   ],
   "source": [
    "#Afficher les 5 dernières lignes du data frame pour vérifier que les données sont bien chargées.\n",
    "customers.tail()"
   ]
  },
  {
   "cell_type": "code",
   "execution_count": 5,
   "id": "57c35e67",
   "metadata": {
    "scrolled": true
   },
   "outputs": [
    {
     "data": {
      "text/html": [
       "<div>\n",
       "<style scoped>\n",
       "    .dataframe tbody tr th:only-of-type {\n",
       "        vertical-align: middle;\n",
       "    }\n",
       "\n",
       "    .dataframe tbody tr th {\n",
       "        vertical-align: top;\n",
       "    }\n",
       "\n",
       "    .dataframe thead th {\n",
       "        text-align: right;\n",
       "    }\n",
       "</style>\n",
       "<table border=\"1\" class=\"dataframe\">\n",
       "  <thead>\n",
       "    <tr style=\"text-align: right;\">\n",
       "      <th></th>\n",
       "      <th>client_id</th>\n",
       "      <th>sex</th>\n",
       "      <th>birth</th>\n",
       "    </tr>\n",
       "  </thead>\n",
       "  <tbody>\n",
       "    <tr>\n",
       "      <th>count</th>\n",
       "      <td>8623</td>\n",
       "      <td>8623</td>\n",
       "      <td>8623.000000</td>\n",
       "    </tr>\n",
       "    <tr>\n",
       "      <th>unique</th>\n",
       "      <td>8623</td>\n",
       "      <td>2</td>\n",
       "      <td>NaN</td>\n",
       "    </tr>\n",
       "    <tr>\n",
       "      <th>top</th>\n",
       "      <td>c_4410</td>\n",
       "      <td>f</td>\n",
       "      <td>NaN</td>\n",
       "    </tr>\n",
       "    <tr>\n",
       "      <th>freq</th>\n",
       "      <td>1</td>\n",
       "      <td>4491</td>\n",
       "      <td>NaN</td>\n",
       "    </tr>\n",
       "    <tr>\n",
       "      <th>mean</th>\n",
       "      <td>NaN</td>\n",
       "      <td>NaN</td>\n",
       "      <td>1978.280877</td>\n",
       "    </tr>\n",
       "    <tr>\n",
       "      <th>std</th>\n",
       "      <td>NaN</td>\n",
       "      <td>NaN</td>\n",
       "      <td>16.919535</td>\n",
       "    </tr>\n",
       "    <tr>\n",
       "      <th>min</th>\n",
       "      <td>NaN</td>\n",
       "      <td>NaN</td>\n",
       "      <td>1929.000000</td>\n",
       "    </tr>\n",
       "    <tr>\n",
       "      <th>25%</th>\n",
       "      <td>NaN</td>\n",
       "      <td>NaN</td>\n",
       "      <td>1966.000000</td>\n",
       "    </tr>\n",
       "    <tr>\n",
       "      <th>50%</th>\n",
       "      <td>NaN</td>\n",
       "      <td>NaN</td>\n",
       "      <td>1979.000000</td>\n",
       "    </tr>\n",
       "    <tr>\n",
       "      <th>75%</th>\n",
       "      <td>NaN</td>\n",
       "      <td>NaN</td>\n",
       "      <td>1992.000000</td>\n",
       "    </tr>\n",
       "    <tr>\n",
       "      <th>max</th>\n",
       "      <td>NaN</td>\n",
       "      <td>NaN</td>\n",
       "      <td>2004.000000</td>\n",
       "    </tr>\n",
       "  </tbody>\n",
       "</table>\n",
       "</div>"
      ],
      "text/plain": [
       "       client_id   sex        birth\n",
       "count       8623  8623  8623.000000\n",
       "unique      8623     2          NaN\n",
       "top       c_4410     f          NaN\n",
       "freq           1  4491          NaN\n",
       "mean         NaN   NaN  1978.280877\n",
       "std          NaN   NaN    16.919535\n",
       "min          NaN   NaN  1929.000000\n",
       "25%          NaN   NaN  1966.000000\n",
       "50%          NaN   NaN  1979.000000\n",
       "75%          NaN   NaN  1992.000000\n",
       "max          NaN   NaN  2004.000000"
      ]
     },
     "execution_count": 5,
     "metadata": {},
     "output_type": "execute_result"
    }
   ],
   "source": [
    "#Faire des statistiques \n",
    "customers.describe(include=\"all\")"
   ]
  },
  {
   "cell_type": "code",
   "execution_count": 6,
   "id": "8a09d5a6",
   "metadata": {
    "scrolled": true
   },
   "outputs": [
    {
     "data": {
      "text/plain": [
       "client_id    0\n",
       "sex          0\n",
       "birth        0\n",
       "dtype: int64"
      ]
     },
     "execution_count": 6,
     "metadata": {},
     "output_type": "execute_result"
    }
   ],
   "source": [
    "#Vérifier des valeurs manquantes\n",
    "customers.isna().sum()"
   ]
  },
  {
   "cell_type": "code",
   "execution_count": 7,
   "id": "04ac350a",
   "metadata": {},
   "outputs": [
    {
     "data": {
      "text/plain": [
       "client_id    object\n",
       "sex          object\n",
       "birth         int64\n",
       "dtype: object"
      ]
     },
     "execution_count": 7,
     "metadata": {},
     "output_type": "execute_result"
    }
   ],
   "source": [
    "#Déterminer les types de données\n",
    "customers.dtypes"
   ]
  },
  {
   "cell_type": "code",
   "execution_count": 8,
   "id": "c62bc60d",
   "metadata": {},
   "outputs": [
    {
     "name": "stdout",
     "output_type": "stream",
     "text": [
      "<class 'pandas.core.frame.DataFrame'>\n",
      "RangeIndex: 8623 entries, 0 to 8622\n",
      "Data columns (total 3 columns):\n",
      " #   Column     Non-Null Count  Dtype \n",
      "---  ------     --------------  ----- \n",
      " 0   client_id  8623 non-null   object\n",
      " 1   sex        8623 non-null   object\n",
      " 2   birth      8623 non-null   int64 \n",
      "dtypes: int64(1), object(2)\n",
      "memory usage: 202.2+ KB\n"
     ]
    }
   ],
   "source": [
    "#Vérifier les types de données dans les colonnes et compter des valeurs non manquantes\n",
    "customers.info()"
   ]
  },
  {
   "cell_type": "code",
   "execution_count": 9,
   "id": "213391c2",
   "metadata": {},
   "outputs": [
    {
     "data": {
      "text/plain": [
       "0"
      ]
     },
     "execution_count": 9,
     "metadata": {},
     "output_type": "execute_result"
    }
   ],
   "source": [
    "#Vérifier des doublons dans le dataframe customers\n",
    "customers.duplicated().sum()"
   ]
  },
  {
   "cell_type": "code",
   "execution_count": 10,
   "id": "7ea7043e",
   "metadata": {},
   "outputs": [
    {
     "data": {
      "text/plain": [
       "0"
      ]
     },
     "execution_count": 10,
     "metadata": {},
     "output_type": "execute_result"
    }
   ],
   "source": [
    "#Vérifier des valeurs manquantes dans la colonne \"client_id\"\n",
    "customers[\"client_id\"].isna().sum()"
   ]
  },
  {
   "cell_type": "code",
   "execution_count": 11,
   "id": "52623b4c",
   "metadata": {},
   "outputs": [
    {
     "data": {
      "text/plain": [
       "0"
      ]
     },
     "execution_count": 11,
     "metadata": {},
     "output_type": "execute_result"
    }
   ],
   "source": [
    "#Vérifier des doublons dans la colonne \"client_id\"\n",
    "customers[\"client_id\"].duplicated().sum()"
   ]
  },
  {
   "cell_type": "code",
   "execution_count": 12,
   "id": "24dd885c",
   "metadata": {},
   "outputs": [
    {
     "data": {
      "text/plain": [
       "(8623, 3)"
      ]
     },
     "execution_count": 12,
     "metadata": {},
     "output_type": "execute_result"
    }
   ],
   "source": [
    "#Déterminer combien des lignes et des colonnes sont contenues dans le fichier\n",
    "customers.shape"
   ]
  },
  {
   "cell_type": "code",
   "execution_count": 13,
   "id": "c4a0bb8d",
   "metadata": {},
   "outputs": [
    {
     "data": {
      "text/plain": [
       "client_id  sex  birth\n",
       "c_1        m    1955     1\n",
       "c_6168     f    1977     1\n",
       "c_6180     m    1957     1\n",
       "c_618      m    1968     1\n",
       "c_6179     m    1974     1\n",
       "                        ..\n",
       "c_3581     m    1966     1\n",
       "c_3580     m    2004     1\n",
       "c_358      f    1974     1\n",
       "c_3579     m    1952     1\n",
       "ct_1       m    2001     1\n",
       "Length: 8623, dtype: int64"
      ]
     },
     "execution_count": 13,
     "metadata": {},
     "output_type": "execute_result"
    }
   ],
   "source": [
    "#Compter des nombres des \n",
    "customers.value_counts()"
   ]
  },
  {
   "cell_type": "code",
   "execution_count": 14,
   "id": "599c9abe",
   "metadata": {},
   "outputs": [
    {
     "data": {
      "text/plain": [
       "client_id    8623\n",
       "sex             2\n",
       "birth          76\n",
       "dtype: int64"
      ]
     },
     "execution_count": 14,
     "metadata": {},
     "output_type": "execute_result"
    }
   ],
   "source": [
    "#lister des nombres de valeurs différentes au sein de dataframe customers\n",
    "customers.nunique()"
   ]
  },
  {
   "cell_type": "code",
   "execution_count": 15,
   "id": "8fd8a8cd",
   "metadata": {},
   "outputs": [
    {
     "data": {
      "text/plain": [
       "array([1967, 1975, 1984, 1962, 1943, 1993, 1978, 1971, 1982, 1945, 2003,\n",
       "       1959, 1977, 1954, 1987, 2000, 1992, 1963, 1958, 1994, 1936, 1986,\n",
       "       1942, 1970, 1957, 1968, 2002, 2004, 1979, 1974, 1964, 1951, 1937,\n",
       "       1981, 1965, 1960, 1996, 1983, 1990, 1955, 1988, 1991, 1972, 1980,\n",
       "       1989, 1976, 1985, 1953, 1998, 1956, 1948, 1973, 1969, 1938, 1995,\n",
       "       1952, 1949, 1999, 2001, 1939, 1950, 1966, 1935, 1941, 1961, 1997,\n",
       "       1944, 1929, 1947, 1946, 1932, 1931, 1933, 1930, 1940, 1934])"
      ]
     },
     "execution_count": 15,
     "metadata": {},
     "output_type": "execute_result"
    }
   ],
   "source": [
    "customers[\"birth\"].unique()"
   ]
  },
  {
   "cell_type": "code",
   "execution_count": 16,
   "id": "ae4ea8b3",
   "metadata": {},
   "outputs": [
    {
     "data": {
      "text/html": [
       "<div>\n",
       "<style scoped>\n",
       "    .dataframe tbody tr th:only-of-type {\n",
       "        vertical-align: middle;\n",
       "    }\n",
       "\n",
       "    .dataframe tbody tr th {\n",
       "        vertical-align: top;\n",
       "    }\n",
       "\n",
       "    .dataframe thead th {\n",
       "        text-align: right;\n",
       "    }\n",
       "</style>\n",
       "<table border=\"1\" class=\"dataframe\">\n",
       "  <thead>\n",
       "    <tr style=\"text-align: right;\">\n",
       "      <th></th>\n",
       "      <th>id_prod</th>\n",
       "      <th>price</th>\n",
       "      <th>categ</th>\n",
       "    </tr>\n",
       "  </thead>\n",
       "  <tbody>\n",
       "    <tr>\n",
       "      <th>0</th>\n",
       "      <td>0_1421</td>\n",
       "      <td>19.99</td>\n",
       "      <td>0</td>\n",
       "    </tr>\n",
       "    <tr>\n",
       "      <th>1</th>\n",
       "      <td>0_1368</td>\n",
       "      <td>5.13</td>\n",
       "      <td>0</td>\n",
       "    </tr>\n",
       "    <tr>\n",
       "      <th>2</th>\n",
       "      <td>0_731</td>\n",
       "      <td>17.99</td>\n",
       "      <td>0</td>\n",
       "    </tr>\n",
       "    <tr>\n",
       "      <th>3</th>\n",
       "      <td>1_587</td>\n",
       "      <td>4.99</td>\n",
       "      <td>1</td>\n",
       "    </tr>\n",
       "    <tr>\n",
       "      <th>4</th>\n",
       "      <td>0_1507</td>\n",
       "      <td>3.99</td>\n",
       "      <td>0</td>\n",
       "    </tr>\n",
       "  </tbody>\n",
       "</table>\n",
       "</div>"
      ],
      "text/plain": [
       "  id_prod  price  categ\n",
       "0  0_1421  19.99      0\n",
       "1  0_1368   5.13      0\n",
       "2   0_731  17.99      0\n",
       "3   1_587   4.99      1\n",
       "4  0_1507   3.99      0"
      ]
     },
     "execution_count": 16,
     "metadata": {},
     "output_type": "execute_result"
    }
   ],
   "source": [
    "#Afficher les 5 premières lignes du data frame pour vérifier que les données sont bien chargées.\n",
    "products.head()"
   ]
  },
  {
   "cell_type": "code",
   "execution_count": 17,
   "id": "c0d28ab0",
   "metadata": {
    "scrolled": true
   },
   "outputs": [
    {
     "data": {
      "text/html": [
       "<div>\n",
       "<style scoped>\n",
       "    .dataframe tbody tr th:only-of-type {\n",
       "        vertical-align: middle;\n",
       "    }\n",
       "\n",
       "    .dataframe tbody tr th {\n",
       "        vertical-align: top;\n",
       "    }\n",
       "\n",
       "    .dataframe thead th {\n",
       "        text-align: right;\n",
       "    }\n",
       "</style>\n",
       "<table border=\"1\" class=\"dataframe\">\n",
       "  <thead>\n",
       "    <tr style=\"text-align: right;\">\n",
       "      <th></th>\n",
       "      <th>id_prod</th>\n",
       "      <th>price</th>\n",
       "      <th>categ</th>\n",
       "    </tr>\n",
       "  </thead>\n",
       "  <tbody>\n",
       "    <tr>\n",
       "      <th>3282</th>\n",
       "      <td>2_23</td>\n",
       "      <td>115.99</td>\n",
       "      <td>2</td>\n",
       "    </tr>\n",
       "    <tr>\n",
       "      <th>3283</th>\n",
       "      <td>0_146</td>\n",
       "      <td>17.14</td>\n",
       "      <td>0</td>\n",
       "    </tr>\n",
       "    <tr>\n",
       "      <th>3284</th>\n",
       "      <td>0_802</td>\n",
       "      <td>11.22</td>\n",
       "      <td>0</td>\n",
       "    </tr>\n",
       "    <tr>\n",
       "      <th>3285</th>\n",
       "      <td>1_140</td>\n",
       "      <td>38.56</td>\n",
       "      <td>1</td>\n",
       "    </tr>\n",
       "    <tr>\n",
       "      <th>3286</th>\n",
       "      <td>0_1920</td>\n",
       "      <td>25.16</td>\n",
       "      <td>0</td>\n",
       "    </tr>\n",
       "  </tbody>\n",
       "</table>\n",
       "</div>"
      ],
      "text/plain": [
       "     id_prod   price  categ\n",
       "3282    2_23  115.99      2\n",
       "3283   0_146   17.14      0\n",
       "3284   0_802   11.22      0\n",
       "3285   1_140   38.56      1\n",
       "3286  0_1920   25.16      0"
      ]
     },
     "execution_count": 17,
     "metadata": {},
     "output_type": "execute_result"
    }
   ],
   "source": [
    "#Afficher les 5 dernières lignes du data frame pour vérifier que les données sont bien chargées.\n",
    "products.tail()"
   ]
  },
  {
   "cell_type": "code",
   "execution_count": 18,
   "id": "4621b705",
   "metadata": {},
   "outputs": [
    {
     "data": {
      "text/plain": [
       "id_prod    0\n",
       "price      0\n",
       "categ      0\n",
       "dtype: int64"
      ]
     },
     "execution_count": 18,
     "metadata": {},
     "output_type": "execute_result"
    }
   ],
   "source": [
    "#Vérifier des valeurs manquantes\n",
    "products.isna().sum()"
   ]
  },
  {
   "cell_type": "code",
   "execution_count": 19,
   "id": "36634a17",
   "metadata": {},
   "outputs": [
    {
     "data": {
      "text/plain": [
       "id_prod  price   categ\n",
       "0_0       3.75   0        1\n",
       "0_899     19.99  0        1\n",
       "0_89      14.99  0        1\n",
       "0_890     2.81   0        1\n",
       "0_891     21.99  0        1\n",
       "                         ..\n",
       "0_1987    6.99   0        1\n",
       "0_1988    9.86   0        1\n",
       "0_1989    3.99   0        1\n",
       "0_199     8.99   0        1\n",
       "T_0      -1.00   0        1\n",
       "Length: 3287, dtype: int64"
      ]
     },
     "execution_count": 19,
     "metadata": {},
     "output_type": "execute_result"
    }
   ],
   "source": [
    "#Compter des nombres de chaque products\n",
    "products.value_counts()"
   ]
  },
  {
   "cell_type": "code",
   "execution_count": 20,
   "id": "14974d8f",
   "metadata": {},
   "outputs": [
    {
     "data": {
      "text/html": [
       "<div>\n",
       "<style scoped>\n",
       "    .dataframe tbody tr th:only-of-type {\n",
       "        vertical-align: middle;\n",
       "    }\n",
       "\n",
       "    .dataframe tbody tr th {\n",
       "        vertical-align: top;\n",
       "    }\n",
       "\n",
       "    .dataframe thead th {\n",
       "        text-align: right;\n",
       "    }\n",
       "</style>\n",
       "<table border=\"1\" class=\"dataframe\">\n",
       "  <thead>\n",
       "    <tr style=\"text-align: right;\">\n",
       "      <th></th>\n",
       "      <th>id_prod</th>\n",
       "      <th>price</th>\n",
       "      <th>categ</th>\n",
       "    </tr>\n",
       "  </thead>\n",
       "  <tbody>\n",
       "    <tr>\n",
       "      <th>count</th>\n",
       "      <td>3287</td>\n",
       "      <td>3287.000000</td>\n",
       "      <td>3287.000000</td>\n",
       "    </tr>\n",
       "    <tr>\n",
       "      <th>unique</th>\n",
       "      <td>3287</td>\n",
       "      <td>NaN</td>\n",
       "      <td>NaN</td>\n",
       "    </tr>\n",
       "    <tr>\n",
       "      <th>top</th>\n",
       "      <td>0_1421</td>\n",
       "      <td>NaN</td>\n",
       "      <td>NaN</td>\n",
       "    </tr>\n",
       "    <tr>\n",
       "      <th>freq</th>\n",
       "      <td>1</td>\n",
       "      <td>NaN</td>\n",
       "      <td>NaN</td>\n",
       "    </tr>\n",
       "    <tr>\n",
       "      <th>mean</th>\n",
       "      <td>NaN</td>\n",
       "      <td>21.856641</td>\n",
       "      <td>0.370246</td>\n",
       "    </tr>\n",
       "    <tr>\n",
       "      <th>std</th>\n",
       "      <td>NaN</td>\n",
       "      <td>29.847908</td>\n",
       "      <td>0.615387</td>\n",
       "    </tr>\n",
       "    <tr>\n",
       "      <th>min</th>\n",
       "      <td>NaN</td>\n",
       "      <td>-1.000000</td>\n",
       "      <td>0.000000</td>\n",
       "    </tr>\n",
       "    <tr>\n",
       "      <th>25%</th>\n",
       "      <td>NaN</td>\n",
       "      <td>6.990000</td>\n",
       "      <td>0.000000</td>\n",
       "    </tr>\n",
       "    <tr>\n",
       "      <th>50%</th>\n",
       "      <td>NaN</td>\n",
       "      <td>13.060000</td>\n",
       "      <td>0.000000</td>\n",
       "    </tr>\n",
       "    <tr>\n",
       "      <th>75%</th>\n",
       "      <td>NaN</td>\n",
       "      <td>22.990000</td>\n",
       "      <td>1.000000</td>\n",
       "    </tr>\n",
       "    <tr>\n",
       "      <th>max</th>\n",
       "      <td>NaN</td>\n",
       "      <td>300.000000</td>\n",
       "      <td>2.000000</td>\n",
       "    </tr>\n",
       "  </tbody>\n",
       "</table>\n",
       "</div>"
      ],
      "text/plain": [
       "       id_prod        price        categ\n",
       "count     3287  3287.000000  3287.000000\n",
       "unique    3287          NaN          NaN\n",
       "top     0_1421          NaN          NaN\n",
       "freq         1          NaN          NaN\n",
       "mean       NaN    21.856641     0.370246\n",
       "std        NaN    29.847908     0.615387\n",
       "min        NaN    -1.000000     0.000000\n",
       "25%        NaN     6.990000     0.000000\n",
       "50%        NaN    13.060000     0.000000\n",
       "75%        NaN    22.990000     1.000000\n",
       "max        NaN   300.000000     2.000000"
      ]
     },
     "execution_count": 20,
     "metadata": {},
     "output_type": "execute_result"
    }
   ],
   "source": [
    "products.describe(include=\"all\")"
   ]
  },
  {
   "cell_type": "code",
   "execution_count": 21,
   "id": "f6ade5c8",
   "metadata": {},
   "outputs": [
    {
     "data": {
      "text/plain": [
       "0"
      ]
     },
     "execution_count": 21,
     "metadata": {},
     "output_type": "execute_result"
    }
   ],
   "source": [
    "products['price'].isna().sum()"
   ]
  },
  {
   "cell_type": "code",
   "execution_count": 22,
   "id": "62cda6ff",
   "metadata": {},
   "outputs": [
    {
     "name": "stdout",
     "output_type": "stream",
     "text": [
      "<class 'pandas.core.frame.DataFrame'>\n",
      "RangeIndex: 3287 entries, 0 to 3286\n",
      "Data columns (total 3 columns):\n",
      " #   Column   Non-Null Count  Dtype  \n",
      "---  ------   --------------  -----  \n",
      " 0   id_prod  3287 non-null   object \n",
      " 1   price    3287 non-null   float64\n",
      " 2   categ    3287 non-null   int64  \n",
      "dtypes: float64(1), int64(1), object(1)\n",
      "memory usage: 77.2+ KB\n"
     ]
    }
   ],
   "source": [
    "#Vérifier les types de données dans les colonnes et compter des valeurs non manquantes\n",
    "products.info()"
   ]
  },
  {
   "cell_type": "code",
   "execution_count": 23,
   "id": "bd2b2f84",
   "metadata": {},
   "outputs": [
    {
     "data": {
      "text/plain": [
       "id_prod     object\n",
       "price      float64\n",
       "categ        int64\n",
       "dtype: object"
      ]
     },
     "execution_count": 23,
     "metadata": {},
     "output_type": "execute_result"
    }
   ],
   "source": [
    "#Afficher les types de l'ensemble des colonnes\n",
    "products.dtypes"
   ]
  },
  {
   "cell_type": "code",
   "execution_count": 24,
   "id": "37ad841b",
   "metadata": {},
   "outputs": [
    {
     "data": {
      "text/plain": [
       "0"
      ]
     },
     "execution_count": 24,
     "metadata": {},
     "output_type": "execute_result"
    }
   ],
   "source": [
    "#Vérifier des doublons dans le dataframe products\n",
    "products.duplicated().sum()"
   ]
  },
  {
   "cell_type": "code",
   "execution_count": 25,
   "id": "e0e4452c",
   "metadata": {},
   "outputs": [
    {
     "data": {
      "text/plain": [
       "0"
      ]
     },
     "execution_count": 25,
     "metadata": {},
     "output_type": "execute_result"
    }
   ],
   "source": [
    "#Vérifier des valeurs manquantes dans la colonnes \"id_prod\"\n",
    "products[\"id_prod\"].isna().sum()"
   ]
  },
  {
   "cell_type": "code",
   "execution_count": 26,
   "id": "7ace1007",
   "metadata": {},
   "outputs": [
    {
     "data": {
      "text/plain": [
       "0"
      ]
     },
     "execution_count": 26,
     "metadata": {},
     "output_type": "execute_result"
    }
   ],
   "source": [
    "#Vérifier des doublons dans la colonne \"id_prod\"\n",
    "products[\"id_prod\"].duplicated().sum()"
   ]
  },
  {
   "cell_type": "code",
   "execution_count": 27,
   "id": "d9ed0067",
   "metadata": {},
   "outputs": [
    {
     "data": {
      "text/plain": [
       "(3287, 3)"
      ]
     },
     "execution_count": 27,
     "metadata": {},
     "output_type": "execute_result"
    }
   ],
   "source": [
    "#Déterminer combien des lignes et des colonnes sont contenues dans le fichier\n",
    "products.shape"
   ]
  },
  {
   "cell_type": "code",
   "execution_count": 28,
   "id": "101158b9",
   "metadata": {},
   "outputs": [
    {
     "data": {
      "text/plain": [
       "id_prod    3287\n",
       "price      1455\n",
       "categ         3\n",
       "dtype: int64"
      ]
     },
     "execution_count": 28,
     "metadata": {},
     "output_type": "execute_result"
    }
   ],
   "source": [
    "#Compter des nombres de valeurs différentes dans le dataframe products\n",
    "products.nunique()"
   ]
  },
  {
   "cell_type": "code",
   "execution_count": 29,
   "id": "7b0683ec",
   "metadata": {},
   "outputs": [
    {
     "data": {
      "text/plain": [
       "array([0, 1, 2])"
      ]
     },
     "execution_count": 29,
     "metadata": {},
     "output_type": "execute_result"
    }
   ],
   "source": [
    "#Lister des valeurs différentes au sein de colonne \"categ\"\n",
    "products[\"categ\"].unique()"
   ]
  },
  {
   "cell_type": "code",
   "execution_count": 30,
   "id": "295d3093",
   "metadata": {},
   "outputs": [
    {
     "data": {
      "text/html": [
       "<div>\n",
       "<style scoped>\n",
       "    .dataframe tbody tr th:only-of-type {\n",
       "        vertical-align: middle;\n",
       "    }\n",
       "\n",
       "    .dataframe tbody tr th {\n",
       "        vertical-align: top;\n",
       "    }\n",
       "\n",
       "    .dataframe thead th {\n",
       "        text-align: right;\n",
       "    }\n",
       "</style>\n",
       "<table border=\"1\" class=\"dataframe\">\n",
       "  <thead>\n",
       "    <tr style=\"text-align: right;\">\n",
       "      <th></th>\n",
       "      <th>id_prod</th>\n",
       "      <th>date</th>\n",
       "      <th>session_id</th>\n",
       "      <th>client_id</th>\n",
       "    </tr>\n",
       "  </thead>\n",
       "  <tbody>\n",
       "    <tr>\n",
       "      <th>0</th>\n",
       "      <td>0_1518</td>\n",
       "      <td>2022-05-20 13:21:29.043970</td>\n",
       "      <td>s_211425</td>\n",
       "      <td>c_103</td>\n",
       "    </tr>\n",
       "    <tr>\n",
       "      <th>1</th>\n",
       "      <td>1_251</td>\n",
       "      <td>2022-02-02 07:55:19.149409</td>\n",
       "      <td>s_158752</td>\n",
       "      <td>c_8534</td>\n",
       "    </tr>\n",
       "    <tr>\n",
       "      <th>2</th>\n",
       "      <td>0_1277</td>\n",
       "      <td>2022-06-18 15:44:33.155329</td>\n",
       "      <td>s_225667</td>\n",
       "      <td>c_6714</td>\n",
       "    </tr>\n",
       "    <tr>\n",
       "      <th>3</th>\n",
       "      <td>2_209</td>\n",
       "      <td>2021-06-24 04:19:29.835891</td>\n",
       "      <td>s_52962</td>\n",
       "      <td>c_6941</td>\n",
       "    </tr>\n",
       "    <tr>\n",
       "      <th>4</th>\n",
       "      <td>0_1509</td>\n",
       "      <td>2023-01-11 08:22:08.194479</td>\n",
       "      <td>s_325227</td>\n",
       "      <td>c_4232</td>\n",
       "    </tr>\n",
       "  </tbody>\n",
       "</table>\n",
       "</div>"
      ],
      "text/plain": [
       "  id_prod                        date session_id client_id\n",
       "0  0_1518  2022-05-20 13:21:29.043970   s_211425     c_103\n",
       "1   1_251  2022-02-02 07:55:19.149409   s_158752    c_8534\n",
       "2  0_1277  2022-06-18 15:44:33.155329   s_225667    c_6714\n",
       "3   2_209  2021-06-24 04:19:29.835891    s_52962    c_6941\n",
       "4  0_1509  2023-01-11 08:22:08.194479   s_325227    c_4232"
      ]
     },
     "execution_count": 30,
     "metadata": {},
     "output_type": "execute_result"
    }
   ],
   "source": [
    "#Afficher les 5 premières lignes du data frame pour vérifier que les données sont bien chargées.\n",
    "transactions.head()"
   ]
  },
  {
   "cell_type": "code",
   "execution_count": 31,
   "id": "61be6c72",
   "metadata": {},
   "outputs": [
    {
     "data": {
      "text/html": [
       "<div>\n",
       "<style scoped>\n",
       "    .dataframe tbody tr th:only-of-type {\n",
       "        vertical-align: middle;\n",
       "    }\n",
       "\n",
       "    .dataframe tbody tr th {\n",
       "        vertical-align: top;\n",
       "    }\n",
       "\n",
       "    .dataframe thead th {\n",
       "        text-align: right;\n",
       "    }\n",
       "</style>\n",
       "<table border=\"1\" class=\"dataframe\">\n",
       "  <thead>\n",
       "    <tr style=\"text-align: right;\">\n",
       "      <th></th>\n",
       "      <th>id_prod</th>\n",
       "      <th>date</th>\n",
       "      <th>session_id</th>\n",
       "      <th>client_id</th>\n",
       "    </tr>\n",
       "  </thead>\n",
       "  <tbody>\n",
       "    <tr>\n",
       "      <th>679527</th>\n",
       "      <td>0_1551</td>\n",
       "      <td>2022-01-15 13:05:06.246925</td>\n",
       "      <td>s_150195</td>\n",
       "      <td>c_8489</td>\n",
       "    </tr>\n",
       "    <tr>\n",
       "      <th>679528</th>\n",
       "      <td>1_639</td>\n",
       "      <td>2022-03-19 16:03:23.429229</td>\n",
       "      <td>s_181434</td>\n",
       "      <td>c_4370</td>\n",
       "    </tr>\n",
       "    <tr>\n",
       "      <th>679529</th>\n",
       "      <td>0_1425</td>\n",
       "      <td>2022-12-20 04:33:37.584749</td>\n",
       "      <td>s_314704</td>\n",
       "      <td>c_304</td>\n",
       "    </tr>\n",
       "    <tr>\n",
       "      <th>679530</th>\n",
       "      <td>0_1994</td>\n",
       "      <td>2021-07-16 20:36:35.350579</td>\n",
       "      <td>s_63204</td>\n",
       "      <td>c_2227</td>\n",
       "    </tr>\n",
       "    <tr>\n",
       "      <th>679531</th>\n",
       "      <td>1_523</td>\n",
       "      <td>2022-09-28 01:12:01.973763</td>\n",
       "      <td>s_274568</td>\n",
       "      <td>c_3873</td>\n",
       "    </tr>\n",
       "  </tbody>\n",
       "</table>\n",
       "</div>"
      ],
      "text/plain": [
       "       id_prod                        date session_id client_id\n",
       "679527  0_1551  2022-01-15 13:05:06.246925   s_150195    c_8489\n",
       "679528   1_639  2022-03-19 16:03:23.429229   s_181434    c_4370\n",
       "679529  0_1425  2022-12-20 04:33:37.584749   s_314704     c_304\n",
       "679530  0_1994  2021-07-16 20:36:35.350579    s_63204    c_2227\n",
       "679531   1_523  2022-09-28 01:12:01.973763   s_274568    c_3873"
      ]
     },
     "execution_count": 31,
     "metadata": {},
     "output_type": "execute_result"
    }
   ],
   "source": [
    "#Afficher les 5 dernières lignes du data frame pour vérifier que les données sont bien chargées.\n",
    "transactions.tail()"
   ]
  },
  {
   "cell_type": "code",
   "execution_count": 32,
   "id": "7bc31981",
   "metadata": {},
   "outputs": [
    {
     "data": {
      "text/html": [
       "<div>\n",
       "<style scoped>\n",
       "    .dataframe tbody tr th:only-of-type {\n",
       "        vertical-align: middle;\n",
       "    }\n",
       "\n",
       "    .dataframe tbody tr th {\n",
       "        vertical-align: top;\n",
       "    }\n",
       "\n",
       "    .dataframe thead th {\n",
       "        text-align: right;\n",
       "    }\n",
       "</style>\n",
       "<table border=\"1\" class=\"dataframe\">\n",
       "  <thead>\n",
       "    <tr style=\"text-align: right;\">\n",
       "      <th></th>\n",
       "      <th>id_prod</th>\n",
       "      <th>date</th>\n",
       "      <th>session_id</th>\n",
       "      <th>client_id</th>\n",
       "    </tr>\n",
       "  </thead>\n",
       "  <tbody>\n",
       "    <tr>\n",
       "      <th>count</th>\n",
       "      <td>679532</td>\n",
       "      <td>679532</td>\n",
       "      <td>679532</td>\n",
       "      <td>679532</td>\n",
       "    </tr>\n",
       "    <tr>\n",
       "      <th>unique</th>\n",
       "      <td>3267</td>\n",
       "      <td>679371</td>\n",
       "      <td>342316</td>\n",
       "      <td>8602</td>\n",
       "    </tr>\n",
       "    <tr>\n",
       "      <th>top</th>\n",
       "      <td>1_369</td>\n",
       "      <td>test_2021-03-01 02:30:02.237413</td>\n",
       "      <td>s_0</td>\n",
       "      <td>c_1609</td>\n",
       "    </tr>\n",
       "    <tr>\n",
       "      <th>freq</th>\n",
       "      <td>2252</td>\n",
       "      <td>13</td>\n",
       "      <td>200</td>\n",
       "      <td>25488</td>\n",
       "    </tr>\n",
       "  </tbody>\n",
       "</table>\n",
       "</div>"
      ],
      "text/plain": [
       "       id_prod                             date session_id client_id\n",
       "count   679532                           679532     679532    679532\n",
       "unique    3267                           679371     342316      8602\n",
       "top      1_369  test_2021-03-01 02:30:02.237413        s_0    c_1609\n",
       "freq      2252                               13        200     25488"
      ]
     },
     "execution_count": 32,
     "metadata": {},
     "output_type": "execute_result"
    }
   ],
   "source": [
    "#Faire des statistiques\n",
    "transactions.describe(include='all')"
   ]
  },
  {
   "cell_type": "code",
   "execution_count": 33,
   "id": "b198f741",
   "metadata": {},
   "outputs": [
    {
     "data": {
      "text/plain": [
       "126"
      ]
     },
     "execution_count": 33,
     "metadata": {},
     "output_type": "execute_result"
    }
   ],
   "source": [
    "#Vérifier des doublons dans le dataframe transactions\n",
    "transactions.duplicated().sum()"
   ]
  },
  {
   "cell_type": "code",
   "execution_count": 34,
   "id": "455bcaf7",
   "metadata": {},
   "outputs": [
    {
     "data": {
      "text/plain": [
       "0"
      ]
     },
     "execution_count": 34,
     "metadata": {},
     "output_type": "execute_result"
    }
   ],
   "source": [
    "#Vérifier des valeurs manquantes dans la colonne \"id-prod\"\n",
    "transactions[\"id_prod\"].isna().sum()"
   ]
  },
  {
   "cell_type": "code",
   "execution_count": 35,
   "id": "90204fb2",
   "metadata": {},
   "outputs": [
    {
     "data": {
      "text/plain": [
       "676265"
      ]
     },
     "execution_count": 35,
     "metadata": {},
     "output_type": "execute_result"
    }
   ],
   "source": [
    "#Vérifier des doublons dans la colonne \"id_prod\"\n",
    "transactions[\"id_prod\"].duplicated().sum()"
   ]
  },
  {
   "cell_type": "code",
   "execution_count": 36,
   "id": "14ad915b",
   "metadata": {},
   "outputs": [
    {
     "data": {
      "text/plain": [
       "(679532, 4)"
      ]
     },
     "execution_count": 36,
     "metadata": {},
     "output_type": "execute_result"
    }
   ],
   "source": [
    "#Déterminer les nombres des lignes et des colonnes sont contenues dans le fichier\n",
    "transactions.shape"
   ]
  },
  {
   "cell_type": "code",
   "execution_count": 37,
   "id": "76fbaaa8",
   "metadata": {},
   "outputs": [
    {
     "data": {
      "text/plain": [
       "id_prod  date                             session_id  client_id\n",
       "T_0      test_2021-03-01 02:30:02.237413  s_0         ct_0         9\n",
       "         test_2021-03-01 02:30:02.237446  s_0         ct_0         6\n",
       "         test_2021-03-01 02:30:02.237428  s_0         ct_0         6\n",
       "         test_2021-03-01 02:30:02.237414  s_0         ct_1         5\n",
       "         test_2021-03-01 02:30:02.237412  s_0         ct_1         5\n",
       "                                                                  ..\n",
       "0_1486   2021-10-19 10:55:26.309106       s_107043    c_8574       1\n",
       "         2021-10-19 19:40:46.255072       s_107217    c_8081       1\n",
       "         2021-10-20 09:35:53.715307       s_107500    c_6820       1\n",
       "         2021-10-21 16:10:11.944606       s_108097    c_459        1\n",
       "T_0      test_2021-03-01 02:30:02.237450  s_0         ct_0         1\n",
       "Length: 679406, dtype: int64"
      ]
     },
     "execution_count": 37,
     "metadata": {},
     "output_type": "execute_result"
    }
   ],
   "source": [
    "#Compter les nombres de transactions\n",
    "transactions.value_counts()"
   ]
  },
  {
   "cell_type": "code",
   "execution_count": 38,
   "id": "6ff8bd15",
   "metadata": {},
   "outputs": [
    {
     "data": {
      "text/plain": [
       "id_prod       0\n",
       "date          0\n",
       "session_id    0\n",
       "client_id     0\n",
       "dtype: int64"
      ]
     },
     "execution_count": 38,
     "metadata": {},
     "output_type": "execute_result"
    }
   ],
   "source": [
    "#Vérifier des valeurs manquantes par colonnes\n",
    "transactions.isna().sum()"
   ]
  },
  {
   "cell_type": "code",
   "execution_count": 39,
   "id": "a1c1b636",
   "metadata": {},
   "outputs": [
    {
     "data": {
      "text/plain": [
       "id_prod       object\n",
       "date          object\n",
       "session_id    object\n",
       "client_id     object\n",
       "dtype: object"
      ]
     },
     "execution_count": 39,
     "metadata": {},
     "output_type": "execute_result"
    }
   ],
   "source": [
    "#Afficher des types de l'ensemble des colonnes\n",
    "transactions.dtypes"
   ]
  },
  {
   "cell_type": "code",
   "execution_count": 40,
   "id": "e7a6dee4",
   "metadata": {},
   "outputs": [
    {
     "name": "stdout",
     "output_type": "stream",
     "text": [
      "<class 'pandas.core.frame.DataFrame'>\n",
      "RangeIndex: 679532 entries, 0 to 679531\n",
      "Data columns (total 4 columns):\n",
      " #   Column      Non-Null Count   Dtype \n",
      "---  ------      --------------   ----- \n",
      " 0   id_prod     679532 non-null  object\n",
      " 1   date        679532 non-null  object\n",
      " 2   session_id  679532 non-null  object\n",
      " 3   client_id   679532 non-null  object\n",
      "dtypes: object(4)\n",
      "memory usage: 20.7+ MB\n"
     ]
    }
   ],
   "source": [
    "#Afficher des types de l'ensemble des colonnes et compter des valeurs non manquantes\n",
    "transactions.info()"
   ]
  },
  {
   "cell_type": "code",
   "execution_count": 41,
   "id": "61cafa36",
   "metadata": {},
   "outputs": [
    {
     "data": {
      "text/plain": [
       "id_prod         3267\n",
       "date          679371\n",
       "session_id    342316\n",
       "client_id       8602\n",
       "dtype: int64"
      ]
     },
     "execution_count": 41,
     "metadata": {},
     "output_type": "execute_result"
    }
   ],
   "source": [
    "#Compter des nombres de valeurs différentes dans le dataframe transactions\n",
    "transactions.nunique()"
   ]
  },
  {
   "cell_type": "code",
   "execution_count": 42,
   "id": "55289fc7",
   "metadata": {},
   "outputs": [
    {
     "data": {
      "text/html": [
       "<div>\n",
       "<style scoped>\n",
       "    .dataframe tbody tr th:only-of-type {\n",
       "        vertical-align: middle;\n",
       "    }\n",
       "\n",
       "    .dataframe tbody tr th {\n",
       "        vertical-align: top;\n",
       "    }\n",
       "\n",
       "    .dataframe thead th {\n",
       "        text-align: right;\n",
       "    }\n",
       "</style>\n",
       "<table border=\"1\" class=\"dataframe\">\n",
       "  <thead>\n",
       "    <tr style=\"text-align: right;\">\n",
       "      <th></th>\n",
       "      <th>id_prod</th>\n",
       "      <th>price</th>\n",
       "      <th>categ</th>\n",
       "      <th>date</th>\n",
       "      <th>session_id</th>\n",
       "      <th>client_id</th>\n",
       "      <th>sex</th>\n",
       "      <th>birth</th>\n",
       "    </tr>\n",
       "  </thead>\n",
       "  <tbody>\n",
       "    <tr>\n",
       "      <th>0</th>\n",
       "      <td>0_1421</td>\n",
       "      <td>19.99</td>\n",
       "      <td>0</td>\n",
       "      <td>2022-02-20 17:04:37.204937</td>\n",
       "      <td>s_168213</td>\n",
       "      <td>c_6389</td>\n",
       "      <td>f</td>\n",
       "      <td>1991</td>\n",
       "    </tr>\n",
       "    <tr>\n",
       "      <th>1</th>\n",
       "      <td>0_1421</td>\n",
       "      <td>19.99</td>\n",
       "      <td>0</td>\n",
       "      <td>2022-10-20 17:04:37.204937</td>\n",
       "      <td>s_285450</td>\n",
       "      <td>c_6389</td>\n",
       "      <td>f</td>\n",
       "      <td>1991</td>\n",
       "    </tr>\n",
       "    <tr>\n",
       "      <th>2</th>\n",
       "      <td>0_2131</td>\n",
       "      <td>8.99</td>\n",
       "      <td>0</td>\n",
       "      <td>2021-10-09 21:47:06.777914</td>\n",
       "      <td>s_102458</td>\n",
       "      <td>c_6389</td>\n",
       "      <td>f</td>\n",
       "      <td>1991</td>\n",
       "    </tr>\n",
       "    <tr>\n",
       "      <th>3</th>\n",
       "      <td>0_1635</td>\n",
       "      <td>16.99</td>\n",
       "      <td>0</td>\n",
       "      <td>2021-04-28 06:08:38.261863</td>\n",
       "      <td>s_26841</td>\n",
       "      <td>c_6389</td>\n",
       "      <td>f</td>\n",
       "      <td>1991</td>\n",
       "    </tr>\n",
       "    <tr>\n",
       "      <th>4</th>\n",
       "      <td>0_166</td>\n",
       "      <td>1.83</td>\n",
       "      <td>0</td>\n",
       "      <td>2021-07-15 10:35:31.526968</td>\n",
       "      <td>s_62585</td>\n",
       "      <td>c_6389</td>\n",
       "      <td>f</td>\n",
       "      <td>1991</td>\n",
       "    </tr>\n",
       "  </tbody>\n",
       "</table>\n",
       "</div>"
      ],
      "text/plain": [
       "  id_prod  price  categ                        date session_id client_id sex  \\\n",
       "0  0_1421  19.99      0  2022-02-20 17:04:37.204937   s_168213    c_6389   f   \n",
       "1  0_1421  19.99      0  2022-10-20 17:04:37.204937   s_285450    c_6389   f   \n",
       "2  0_2131   8.99      0  2021-10-09 21:47:06.777914   s_102458    c_6389   f   \n",
       "3  0_1635  16.99      0  2021-04-28 06:08:38.261863    s_26841    c_6389   f   \n",
       "4   0_166   1.83      0  2021-07-15 10:35:31.526968    s_62585    c_6389   f   \n",
       "\n",
       "   birth  \n",
       "0   1991  \n",
       "1   1991  \n",
       "2   1991  \n",
       "3   1991  \n",
       "4   1991  "
      ]
     },
     "execution_count": 42,
     "metadata": {},
     "output_type": "execute_result"
    }
   ],
   "source": [
    "#Joindre les 3 dataframes\n",
    "df=products.merge(transactions,how='left',on='id_prod').merge(customers,on='client_id',how='inner')\n",
    "df.head()"
   ]
  },
  {
   "cell_type": "code",
   "execution_count": 43,
   "id": "73e9086d",
   "metadata": {},
   "outputs": [
    {
     "data": {
      "text/plain": [
       "count    679311.000000\n",
       "mean         17.449340\n",
       "std          18.329034\n",
       "min          -1.000000\n",
       "25%           8.820000\n",
       "50%          13.990000\n",
       "75%          18.990000\n",
       "max         300.000000\n",
       "Name: price, dtype: float64"
      ]
     },
     "execution_count": 43,
     "metadata": {},
     "output_type": "execute_result"
    }
   ],
   "source": [
    "#Faire des statistiques rapides sur le prix\n",
    "df['price'].describe()"
   ]
  },
  {
   "cell_type": "code",
   "execution_count": 44,
   "id": "bf89b7a2",
   "metadata": {},
   "outputs": [
    {
     "data": {
      "text/html": [
       "<div>\n",
       "<style scoped>\n",
       "    .dataframe tbody tr th:only-of-type {\n",
       "        vertical-align: middle;\n",
       "    }\n",
       "\n",
       "    .dataframe tbody tr th {\n",
       "        vertical-align: top;\n",
       "    }\n",
       "\n",
       "    .dataframe thead th {\n",
       "        text-align: right;\n",
       "    }\n",
       "</style>\n",
       "<table border=\"1\" class=\"dataframe\">\n",
       "  <thead>\n",
       "    <tr style=\"text-align: right;\">\n",
       "      <th></th>\n",
       "      <th>id_prod</th>\n",
       "      <th>price</th>\n",
       "      <th>categ</th>\n",
       "      <th>date</th>\n",
       "      <th>session_id</th>\n",
       "      <th>client_id</th>\n",
       "      <th>sex</th>\n",
       "      <th>birth</th>\n",
       "    </tr>\n",
       "  </thead>\n",
       "  <tbody>\n",
       "    <tr>\n",
       "      <th>674494</th>\n",
       "      <td>T_0</td>\n",
       "      <td>-1.0</td>\n",
       "      <td>0</td>\n",
       "      <td>test_2021-03-01 02:30:02.237419</td>\n",
       "      <td>s_0</td>\n",
       "      <td>ct_0</td>\n",
       "      <td>f</td>\n",
       "      <td>2001</td>\n",
       "    </tr>\n",
       "    <tr>\n",
       "      <th>674495</th>\n",
       "      <td>T_0</td>\n",
       "      <td>-1.0</td>\n",
       "      <td>0</td>\n",
       "      <td>test_2021-03-01 02:30:02.237425</td>\n",
       "      <td>s_0</td>\n",
       "      <td>ct_0</td>\n",
       "      <td>f</td>\n",
       "      <td>2001</td>\n",
       "    </tr>\n",
       "    <tr>\n",
       "      <th>674496</th>\n",
       "      <td>T_0</td>\n",
       "      <td>-1.0</td>\n",
       "      <td>0</td>\n",
       "      <td>test_2021-03-01 02:30:02.237436</td>\n",
       "      <td>s_0</td>\n",
       "      <td>ct_0</td>\n",
       "      <td>f</td>\n",
       "      <td>2001</td>\n",
       "    </tr>\n",
       "    <tr>\n",
       "      <th>674497</th>\n",
       "      <td>T_0</td>\n",
       "      <td>-1.0</td>\n",
       "      <td>0</td>\n",
       "      <td>test_2021-03-01 02:30:02.237430</td>\n",
       "      <td>s_0</td>\n",
       "      <td>ct_0</td>\n",
       "      <td>f</td>\n",
       "      <td>2001</td>\n",
       "    </tr>\n",
       "    <tr>\n",
       "      <th>674498</th>\n",
       "      <td>T_0</td>\n",
       "      <td>-1.0</td>\n",
       "      <td>0</td>\n",
       "      <td>test_2021-03-01 02:30:02.237449</td>\n",
       "      <td>s_0</td>\n",
       "      <td>ct_0</td>\n",
       "      <td>f</td>\n",
       "      <td>2001</td>\n",
       "    </tr>\n",
       "    <tr>\n",
       "      <th>...</th>\n",
       "      <td>...</td>\n",
       "      <td>...</td>\n",
       "      <td>...</td>\n",
       "      <td>...</td>\n",
       "      <td>...</td>\n",
       "      <td>...</td>\n",
       "      <td>...</td>\n",
       "      <td>...</td>\n",
       "    </tr>\n",
       "    <tr>\n",
       "      <th>674689</th>\n",
       "      <td>T_0</td>\n",
       "      <td>-1.0</td>\n",
       "      <td>0</td>\n",
       "      <td>test_2021-03-01 02:30:02.237420</td>\n",
       "      <td>s_0</td>\n",
       "      <td>ct_1</td>\n",
       "      <td>m</td>\n",
       "      <td>2001</td>\n",
       "    </tr>\n",
       "    <tr>\n",
       "      <th>674690</th>\n",
       "      <td>T_0</td>\n",
       "      <td>-1.0</td>\n",
       "      <td>0</td>\n",
       "      <td>test_2021-03-01 02:30:02.237427</td>\n",
       "      <td>s_0</td>\n",
       "      <td>ct_1</td>\n",
       "      <td>m</td>\n",
       "      <td>2001</td>\n",
       "    </tr>\n",
       "    <tr>\n",
       "      <th>674691</th>\n",
       "      <td>T_0</td>\n",
       "      <td>-1.0</td>\n",
       "      <td>0</td>\n",
       "      <td>test_2021-03-01 02:30:02.237449</td>\n",
       "      <td>s_0</td>\n",
       "      <td>ct_1</td>\n",
       "      <td>m</td>\n",
       "      <td>2001</td>\n",
       "    </tr>\n",
       "    <tr>\n",
       "      <th>674692</th>\n",
       "      <td>T_0</td>\n",
       "      <td>-1.0</td>\n",
       "      <td>0</td>\n",
       "      <td>test_2021-03-01 02:30:02.237424</td>\n",
       "      <td>s_0</td>\n",
       "      <td>ct_1</td>\n",
       "      <td>m</td>\n",
       "      <td>2001</td>\n",
       "    </tr>\n",
       "    <tr>\n",
       "      <th>674693</th>\n",
       "      <td>T_0</td>\n",
       "      <td>-1.0</td>\n",
       "      <td>0</td>\n",
       "      <td>test_2021-03-01 02:30:02.237425</td>\n",
       "      <td>s_0</td>\n",
       "      <td>ct_1</td>\n",
       "      <td>m</td>\n",
       "      <td>2001</td>\n",
       "    </tr>\n",
       "  </tbody>\n",
       "</table>\n",
       "<p>200 rows × 8 columns</p>\n",
       "</div>"
      ],
      "text/plain": [
       "       id_prod  price  categ                             date session_id  \\\n",
       "674494     T_0   -1.0      0  test_2021-03-01 02:30:02.237419        s_0   \n",
       "674495     T_0   -1.0      0  test_2021-03-01 02:30:02.237425        s_0   \n",
       "674496     T_0   -1.0      0  test_2021-03-01 02:30:02.237436        s_0   \n",
       "674497     T_0   -1.0      0  test_2021-03-01 02:30:02.237430        s_0   \n",
       "674498     T_0   -1.0      0  test_2021-03-01 02:30:02.237449        s_0   \n",
       "...        ...    ...    ...                              ...        ...   \n",
       "674689     T_0   -1.0      0  test_2021-03-01 02:30:02.237420        s_0   \n",
       "674690     T_0   -1.0      0  test_2021-03-01 02:30:02.237427        s_0   \n",
       "674691     T_0   -1.0      0  test_2021-03-01 02:30:02.237449        s_0   \n",
       "674692     T_0   -1.0      0  test_2021-03-01 02:30:02.237424        s_0   \n",
       "674693     T_0   -1.0      0  test_2021-03-01 02:30:02.237425        s_0   \n",
       "\n",
       "       client_id sex  birth  \n",
       "674494      ct_0   f   2001  \n",
       "674495      ct_0   f   2001  \n",
       "674496      ct_0   f   2001  \n",
       "674497      ct_0   f   2001  \n",
       "674498      ct_0   f   2001  \n",
       "...          ...  ..    ...  \n",
       "674689      ct_1   m   2001  \n",
       "674690      ct_1   m   2001  \n",
       "674691      ct_1   m   2001  \n",
       "674692      ct_1   m   2001  \n",
       "674693      ct_1   m   2001  \n",
       "\n",
       "[200 rows x 8 columns]"
      ]
     },
     "execution_count": 44,
     "metadata": {},
     "output_type": "execute_result"
    }
   ],
   "source": [
    "#Sélectionner des prix négatifs\n",
    "df[df['price']<0]"
   ]
  },
  {
   "cell_type": "code",
   "execution_count": 45,
   "id": "623b9a08",
   "metadata": {},
   "outputs": [
    {
     "data": {
      "text/html": [
       "<div>\n",
       "<style scoped>\n",
       "    .dataframe tbody tr th:only-of-type {\n",
       "        vertical-align: middle;\n",
       "    }\n",
       "\n",
       "    .dataframe tbody tr th {\n",
       "        vertical-align: top;\n",
       "    }\n",
       "\n",
       "    .dataframe thead th {\n",
       "        text-align: right;\n",
       "    }\n",
       "</style>\n",
       "<table border=\"1\" class=\"dataframe\">\n",
       "  <thead>\n",
       "    <tr style=\"text-align: right;\">\n",
       "      <th></th>\n",
       "      <th>id_prod</th>\n",
       "      <th>price</th>\n",
       "      <th>categ</th>\n",
       "      <th>date</th>\n",
       "      <th>session_id</th>\n",
       "      <th>client_id</th>\n",
       "      <th>sex</th>\n",
       "      <th>birth</th>\n",
       "    </tr>\n",
       "  </thead>\n",
       "  <tbody>\n",
       "    <tr>\n",
       "      <th>0</th>\n",
       "      <td>0_1421</td>\n",
       "      <td>19.99</td>\n",
       "      <td>0</td>\n",
       "      <td>2022-02-20 17:04:37.204937</td>\n",
       "      <td>s_168213</td>\n",
       "      <td>c_6389</td>\n",
       "      <td>f</td>\n",
       "      <td>1991</td>\n",
       "    </tr>\n",
       "    <tr>\n",
       "      <th>1</th>\n",
       "      <td>0_1421</td>\n",
       "      <td>19.99</td>\n",
       "      <td>0</td>\n",
       "      <td>2022-10-20 17:04:37.204937</td>\n",
       "      <td>s_285450</td>\n",
       "      <td>c_6389</td>\n",
       "      <td>f</td>\n",
       "      <td>1991</td>\n",
       "    </tr>\n",
       "    <tr>\n",
       "      <th>2</th>\n",
       "      <td>0_2131</td>\n",
       "      <td>8.99</td>\n",
       "      <td>0</td>\n",
       "      <td>2021-10-09 21:47:06.777914</td>\n",
       "      <td>s_102458</td>\n",
       "      <td>c_6389</td>\n",
       "      <td>f</td>\n",
       "      <td>1991</td>\n",
       "    </tr>\n",
       "    <tr>\n",
       "      <th>3</th>\n",
       "      <td>0_1635</td>\n",
       "      <td>16.99</td>\n",
       "      <td>0</td>\n",
       "      <td>2021-04-28 06:08:38.261863</td>\n",
       "      <td>s_26841</td>\n",
       "      <td>c_6389</td>\n",
       "      <td>f</td>\n",
       "      <td>1991</td>\n",
       "    </tr>\n",
       "    <tr>\n",
       "      <th>4</th>\n",
       "      <td>0_166</td>\n",
       "      <td>1.83</td>\n",
       "      <td>0</td>\n",
       "      <td>2021-07-15 10:35:31.526968</td>\n",
       "      <td>s_62585</td>\n",
       "      <td>c_6389</td>\n",
       "      <td>f</td>\n",
       "      <td>1991</td>\n",
       "    </tr>\n",
       "  </tbody>\n",
       "</table>\n",
       "</div>"
      ],
      "text/plain": [
       "  id_prod  price  categ                        date session_id client_id sex  \\\n",
       "0  0_1421  19.99      0  2022-02-20 17:04:37.204937   s_168213    c_6389   f   \n",
       "1  0_1421  19.99      0  2022-10-20 17:04:37.204937   s_285450    c_6389   f   \n",
       "2  0_2131   8.99      0  2021-10-09 21:47:06.777914   s_102458    c_6389   f   \n",
       "3  0_1635  16.99      0  2021-04-28 06:08:38.261863    s_26841    c_6389   f   \n",
       "4   0_166   1.83      0  2021-07-15 10:35:31.526968    s_62585    c_6389   f   \n",
       "\n",
       "   birth  \n",
       "0   1991  \n",
       "1   1991  \n",
       "2   1991  \n",
       "3   1991  \n",
       "4   1991  "
      ]
     },
     "execution_count": 45,
     "metadata": {},
     "output_type": "execute_result"
    }
   ],
   "source": [
    "#Filtrer des prix négatifs < 0\n",
    "df=df[df['price']>=0]\n",
    "df.head()"
   ]
  },
  {
   "cell_type": "code",
   "execution_count": 46,
   "id": "989a2e96",
   "metadata": {},
   "outputs": [],
   "source": [
    "#Changer le format de date \n",
    "df['date']=pd.to_datetime(df['date'],format='%Y-%m-%d')"
   ]
  },
  {
   "cell_type": "code",
   "execution_count": 47,
   "id": "da0fb635",
   "metadata": {},
   "outputs": [
    {
     "data": {
      "text/html": [
       "<div>\n",
       "<style scoped>\n",
       "    .dataframe tbody tr th:only-of-type {\n",
       "        vertical-align: middle;\n",
       "    }\n",
       "\n",
       "    .dataframe tbody tr th {\n",
       "        vertical-align: top;\n",
       "    }\n",
       "\n",
       "    .dataframe thead th {\n",
       "        text-align: right;\n",
       "    }\n",
       "</style>\n",
       "<table border=\"1\" class=\"dataframe\">\n",
       "  <thead>\n",
       "    <tr style=\"text-align: right;\">\n",
       "      <th></th>\n",
       "      <th>id_prod</th>\n",
       "      <th>price</th>\n",
       "      <th>categ</th>\n",
       "      <th>date</th>\n",
       "      <th>session_id</th>\n",
       "      <th>client_id</th>\n",
       "      <th>sex</th>\n",
       "      <th>birth</th>\n",
       "    </tr>\n",
       "  </thead>\n",
       "  <tbody>\n",
       "    <tr>\n",
       "      <th>0</th>\n",
       "      <td>0_1421</td>\n",
       "      <td>19.99</td>\n",
       "      <td>0</td>\n",
       "      <td>2022-02-20 17:04:37.204937</td>\n",
       "      <td>s_168213</td>\n",
       "      <td>c_6389</td>\n",
       "      <td>f</td>\n",
       "      <td>1991</td>\n",
       "    </tr>\n",
       "    <tr>\n",
       "      <th>1</th>\n",
       "      <td>0_1421</td>\n",
       "      <td>19.99</td>\n",
       "      <td>0</td>\n",
       "      <td>2022-10-20 17:04:37.204937</td>\n",
       "      <td>s_285450</td>\n",
       "      <td>c_6389</td>\n",
       "      <td>f</td>\n",
       "      <td>1991</td>\n",
       "    </tr>\n",
       "    <tr>\n",
       "      <th>2</th>\n",
       "      <td>0_2131</td>\n",
       "      <td>8.99</td>\n",
       "      <td>0</td>\n",
       "      <td>2021-10-09 21:47:06.777914</td>\n",
       "      <td>s_102458</td>\n",
       "      <td>c_6389</td>\n",
       "      <td>f</td>\n",
       "      <td>1991</td>\n",
       "    </tr>\n",
       "    <tr>\n",
       "      <th>3</th>\n",
       "      <td>0_1635</td>\n",
       "      <td>16.99</td>\n",
       "      <td>0</td>\n",
       "      <td>2021-04-28 06:08:38.261863</td>\n",
       "      <td>s_26841</td>\n",
       "      <td>c_6389</td>\n",
       "      <td>f</td>\n",
       "      <td>1991</td>\n",
       "    </tr>\n",
       "    <tr>\n",
       "      <th>4</th>\n",
       "      <td>0_166</td>\n",
       "      <td>1.83</td>\n",
       "      <td>0</td>\n",
       "      <td>2021-07-15 10:35:31.526968</td>\n",
       "      <td>s_62585</td>\n",
       "      <td>c_6389</td>\n",
       "      <td>f</td>\n",
       "      <td>1991</td>\n",
       "    </tr>\n",
       "  </tbody>\n",
       "</table>\n",
       "</div>"
      ],
      "text/plain": [
       "  id_prod  price  categ                       date session_id client_id sex  \\\n",
       "0  0_1421  19.99      0 2022-02-20 17:04:37.204937   s_168213    c_6389   f   \n",
       "1  0_1421  19.99      0 2022-10-20 17:04:37.204937   s_285450    c_6389   f   \n",
       "2  0_2131   8.99      0 2021-10-09 21:47:06.777914   s_102458    c_6389   f   \n",
       "3  0_1635  16.99      0 2021-04-28 06:08:38.261863    s_26841    c_6389   f   \n",
       "4   0_166   1.83      0 2021-07-15 10:35:31.526968    s_62585    c_6389   f   \n",
       "\n",
       "   birth  \n",
       "0   1991  \n",
       "1   1991  \n",
       "2   1991  \n",
       "3   1991  \n",
       "4   1991  "
      ]
     },
     "execution_count": 47,
     "metadata": {},
     "output_type": "execute_result"
    }
   ],
   "source": [
    "df.head()"
   ]
  },
  {
   "cell_type": "code",
   "execution_count": 48,
   "id": "bfac802e",
   "metadata": {},
   "outputs": [],
   "source": [
    "#Convertir la date\n",
    "df['date']=df['date'].dt.date"
   ]
  },
  {
   "cell_type": "code",
   "execution_count": 49,
   "id": "a20d3579",
   "metadata": {},
   "outputs": [
    {
     "data": {
      "text/html": [
       "<div>\n",
       "<style scoped>\n",
       "    .dataframe tbody tr th:only-of-type {\n",
       "        vertical-align: middle;\n",
       "    }\n",
       "\n",
       "    .dataframe tbody tr th {\n",
       "        vertical-align: top;\n",
       "    }\n",
       "\n",
       "    .dataframe thead th {\n",
       "        text-align: right;\n",
       "    }\n",
       "</style>\n",
       "<table border=\"1\" class=\"dataframe\">\n",
       "  <thead>\n",
       "    <tr style=\"text-align: right;\">\n",
       "      <th></th>\n",
       "      <th>id_prod</th>\n",
       "      <th>price</th>\n",
       "      <th>categ</th>\n",
       "      <th>date</th>\n",
       "      <th>session_id</th>\n",
       "      <th>client_id</th>\n",
       "      <th>sex</th>\n",
       "      <th>birth</th>\n",
       "    </tr>\n",
       "  </thead>\n",
       "  <tbody>\n",
       "    <tr>\n",
       "      <th>0</th>\n",
       "      <td>0_1421</td>\n",
       "      <td>19.99</td>\n",
       "      <td>0</td>\n",
       "      <td>2022-02-20</td>\n",
       "      <td>s_168213</td>\n",
       "      <td>c_6389</td>\n",
       "      <td>f</td>\n",
       "      <td>1991</td>\n",
       "    </tr>\n",
       "    <tr>\n",
       "      <th>1</th>\n",
       "      <td>0_1421</td>\n",
       "      <td>19.99</td>\n",
       "      <td>0</td>\n",
       "      <td>2022-10-20</td>\n",
       "      <td>s_285450</td>\n",
       "      <td>c_6389</td>\n",
       "      <td>f</td>\n",
       "      <td>1991</td>\n",
       "    </tr>\n",
       "    <tr>\n",
       "      <th>2</th>\n",
       "      <td>0_2131</td>\n",
       "      <td>8.99</td>\n",
       "      <td>0</td>\n",
       "      <td>2021-10-09</td>\n",
       "      <td>s_102458</td>\n",
       "      <td>c_6389</td>\n",
       "      <td>f</td>\n",
       "      <td>1991</td>\n",
       "    </tr>\n",
       "    <tr>\n",
       "      <th>3</th>\n",
       "      <td>0_1635</td>\n",
       "      <td>16.99</td>\n",
       "      <td>0</td>\n",
       "      <td>2021-04-28</td>\n",
       "      <td>s_26841</td>\n",
       "      <td>c_6389</td>\n",
       "      <td>f</td>\n",
       "      <td>1991</td>\n",
       "    </tr>\n",
       "    <tr>\n",
       "      <th>4</th>\n",
       "      <td>0_166</td>\n",
       "      <td>1.83</td>\n",
       "      <td>0</td>\n",
       "      <td>2021-07-15</td>\n",
       "      <td>s_62585</td>\n",
       "      <td>c_6389</td>\n",
       "      <td>f</td>\n",
       "      <td>1991</td>\n",
       "    </tr>\n",
       "  </tbody>\n",
       "</table>\n",
       "</div>"
      ],
      "text/plain": [
       "  id_prod  price  categ        date session_id client_id sex  birth\n",
       "0  0_1421  19.99      0  2022-02-20   s_168213    c_6389   f   1991\n",
       "1  0_1421  19.99      0  2022-10-20   s_285450    c_6389   f   1991\n",
       "2  0_2131   8.99      0  2021-10-09   s_102458    c_6389   f   1991\n",
       "3  0_1635  16.99      0  2021-04-28    s_26841    c_6389   f   1991\n",
       "4   0_166   1.83      0  2021-07-15    s_62585    c_6389   f   1991"
      ]
     },
     "execution_count": 49,
     "metadata": {},
     "output_type": "execute_result"
    }
   ],
   "source": [
    "df.head()"
   ]
  },
  {
   "cell_type": "code",
   "execution_count": 50,
   "id": "b8c4d281",
   "metadata": {},
   "outputs": [],
   "source": [
    "#Convertir des dates en mois\n",
    "df['month_year']=pd.to_datetime(df['date']).dt.to_period('M')"
   ]
  },
  {
   "cell_type": "code",
   "execution_count": 51,
   "id": "c0b61e70",
   "metadata": {},
   "outputs": [
    {
     "data": {
      "text/html": [
       "<div>\n",
       "<style scoped>\n",
       "    .dataframe tbody tr th:only-of-type {\n",
       "        vertical-align: middle;\n",
       "    }\n",
       "\n",
       "    .dataframe tbody tr th {\n",
       "        vertical-align: top;\n",
       "    }\n",
       "\n",
       "    .dataframe thead th {\n",
       "        text-align: right;\n",
       "    }\n",
       "</style>\n",
       "<table border=\"1\" class=\"dataframe\">\n",
       "  <thead>\n",
       "    <tr style=\"text-align: right;\">\n",
       "      <th></th>\n",
       "      <th>id_prod</th>\n",
       "      <th>price</th>\n",
       "      <th>categ</th>\n",
       "      <th>date</th>\n",
       "      <th>session_id</th>\n",
       "      <th>client_id</th>\n",
       "      <th>sex</th>\n",
       "      <th>birth</th>\n",
       "      <th>month_year</th>\n",
       "    </tr>\n",
       "  </thead>\n",
       "  <tbody>\n",
       "    <tr>\n",
       "      <th>0</th>\n",
       "      <td>0_1421</td>\n",
       "      <td>19.99</td>\n",
       "      <td>0</td>\n",
       "      <td>2022-02-20</td>\n",
       "      <td>s_168213</td>\n",
       "      <td>c_6389</td>\n",
       "      <td>f</td>\n",
       "      <td>1991</td>\n",
       "      <td>2022-02</td>\n",
       "    </tr>\n",
       "    <tr>\n",
       "      <th>1</th>\n",
       "      <td>0_1421</td>\n",
       "      <td>19.99</td>\n",
       "      <td>0</td>\n",
       "      <td>2022-10-20</td>\n",
       "      <td>s_285450</td>\n",
       "      <td>c_6389</td>\n",
       "      <td>f</td>\n",
       "      <td>1991</td>\n",
       "      <td>2022-10</td>\n",
       "    </tr>\n",
       "    <tr>\n",
       "      <th>2</th>\n",
       "      <td>0_2131</td>\n",
       "      <td>8.99</td>\n",
       "      <td>0</td>\n",
       "      <td>2021-10-09</td>\n",
       "      <td>s_102458</td>\n",
       "      <td>c_6389</td>\n",
       "      <td>f</td>\n",
       "      <td>1991</td>\n",
       "      <td>2021-10</td>\n",
       "    </tr>\n",
       "    <tr>\n",
       "      <th>3</th>\n",
       "      <td>0_1635</td>\n",
       "      <td>16.99</td>\n",
       "      <td>0</td>\n",
       "      <td>2021-04-28</td>\n",
       "      <td>s_26841</td>\n",
       "      <td>c_6389</td>\n",
       "      <td>f</td>\n",
       "      <td>1991</td>\n",
       "      <td>2021-04</td>\n",
       "    </tr>\n",
       "    <tr>\n",
       "      <th>4</th>\n",
       "      <td>0_166</td>\n",
       "      <td>1.83</td>\n",
       "      <td>0</td>\n",
       "      <td>2021-07-15</td>\n",
       "      <td>s_62585</td>\n",
       "      <td>c_6389</td>\n",
       "      <td>f</td>\n",
       "      <td>1991</td>\n",
       "      <td>2021-07</td>\n",
       "    </tr>\n",
       "  </tbody>\n",
       "</table>\n",
       "</div>"
      ],
      "text/plain": [
       "  id_prod  price  categ        date session_id client_id sex  birth month_year\n",
       "0  0_1421  19.99      0  2022-02-20   s_168213    c_6389   f   1991    2022-02\n",
       "1  0_1421  19.99      0  2022-10-20   s_285450    c_6389   f   1991    2022-10\n",
       "2  0_2131   8.99      0  2021-10-09   s_102458    c_6389   f   1991    2021-10\n",
       "3  0_1635  16.99      0  2021-04-28    s_26841    c_6389   f   1991    2021-04\n",
       "4   0_166   1.83      0  2021-07-15    s_62585    c_6389   f   1991    2021-07"
      ]
     },
     "execution_count": 51,
     "metadata": {},
     "output_type": "execute_result"
    }
   ],
   "source": [
    "df.head()"
   ]
  },
  {
   "cell_type": "code",
   "execution_count": 52,
   "id": "3d247eac",
   "metadata": {},
   "outputs": [],
   "source": [
    "#Convertir des dates en années\n",
    "df['year']=pd.DatetimeIndex(df['date']).year"
   ]
  },
  {
   "cell_type": "code",
   "execution_count": 53,
   "id": "2f02a826",
   "metadata": {},
   "outputs": [
    {
     "data": {
      "text/html": [
       "<div>\n",
       "<style scoped>\n",
       "    .dataframe tbody tr th:only-of-type {\n",
       "        vertical-align: middle;\n",
       "    }\n",
       "\n",
       "    .dataframe tbody tr th {\n",
       "        vertical-align: top;\n",
       "    }\n",
       "\n",
       "    .dataframe thead th {\n",
       "        text-align: right;\n",
       "    }\n",
       "</style>\n",
       "<table border=\"1\" class=\"dataframe\">\n",
       "  <thead>\n",
       "    <tr style=\"text-align: right;\">\n",
       "      <th></th>\n",
       "      <th>id_prod</th>\n",
       "      <th>price</th>\n",
       "      <th>categ</th>\n",
       "      <th>date</th>\n",
       "      <th>session_id</th>\n",
       "      <th>client_id</th>\n",
       "      <th>sex</th>\n",
       "      <th>birth</th>\n",
       "      <th>month_year</th>\n",
       "      <th>year</th>\n",
       "    </tr>\n",
       "  </thead>\n",
       "  <tbody>\n",
       "    <tr>\n",
       "      <th>0</th>\n",
       "      <td>0_1421</td>\n",
       "      <td>19.99</td>\n",
       "      <td>0</td>\n",
       "      <td>2022-02-20</td>\n",
       "      <td>s_168213</td>\n",
       "      <td>c_6389</td>\n",
       "      <td>f</td>\n",
       "      <td>1991</td>\n",
       "      <td>2022-02</td>\n",
       "      <td>2022</td>\n",
       "    </tr>\n",
       "    <tr>\n",
       "      <th>1</th>\n",
       "      <td>0_1421</td>\n",
       "      <td>19.99</td>\n",
       "      <td>0</td>\n",
       "      <td>2022-10-20</td>\n",
       "      <td>s_285450</td>\n",
       "      <td>c_6389</td>\n",
       "      <td>f</td>\n",
       "      <td>1991</td>\n",
       "      <td>2022-10</td>\n",
       "      <td>2022</td>\n",
       "    </tr>\n",
       "    <tr>\n",
       "      <th>2</th>\n",
       "      <td>0_2131</td>\n",
       "      <td>8.99</td>\n",
       "      <td>0</td>\n",
       "      <td>2021-10-09</td>\n",
       "      <td>s_102458</td>\n",
       "      <td>c_6389</td>\n",
       "      <td>f</td>\n",
       "      <td>1991</td>\n",
       "      <td>2021-10</td>\n",
       "      <td>2021</td>\n",
       "    </tr>\n",
       "    <tr>\n",
       "      <th>3</th>\n",
       "      <td>0_1635</td>\n",
       "      <td>16.99</td>\n",
       "      <td>0</td>\n",
       "      <td>2021-04-28</td>\n",
       "      <td>s_26841</td>\n",
       "      <td>c_6389</td>\n",
       "      <td>f</td>\n",
       "      <td>1991</td>\n",
       "      <td>2021-04</td>\n",
       "      <td>2021</td>\n",
       "    </tr>\n",
       "    <tr>\n",
       "      <th>4</th>\n",
       "      <td>0_166</td>\n",
       "      <td>1.83</td>\n",
       "      <td>0</td>\n",
       "      <td>2021-07-15</td>\n",
       "      <td>s_62585</td>\n",
       "      <td>c_6389</td>\n",
       "      <td>f</td>\n",
       "      <td>1991</td>\n",
       "      <td>2021-07</td>\n",
       "      <td>2021</td>\n",
       "    </tr>\n",
       "  </tbody>\n",
       "</table>\n",
       "</div>"
      ],
      "text/plain": [
       "  id_prod  price  categ        date session_id client_id sex  birth  \\\n",
       "0  0_1421  19.99      0  2022-02-20   s_168213    c_6389   f   1991   \n",
       "1  0_1421  19.99      0  2022-10-20   s_285450    c_6389   f   1991   \n",
       "2  0_2131   8.99      0  2021-10-09   s_102458    c_6389   f   1991   \n",
       "3  0_1635  16.99      0  2021-04-28    s_26841    c_6389   f   1991   \n",
       "4   0_166   1.83      0  2021-07-15    s_62585    c_6389   f   1991   \n",
       "\n",
       "  month_year  year  \n",
       "0    2022-02  2022  \n",
       "1    2022-10  2022  \n",
       "2    2021-10  2021  \n",
       "3    2021-04  2021  \n",
       "4    2021-07  2021  "
      ]
     },
     "execution_count": 53,
     "metadata": {},
     "output_type": "execute_result"
    }
   ],
   "source": [
    "df.head()"
   ]
  },
  {
   "cell_type": "code",
   "execution_count": 54,
   "id": "47df151e",
   "metadata": {},
   "outputs": [],
   "source": [
    "#Calculer des âges de clients\n",
    "df['age']=df['year']-df['birth']"
   ]
  },
  {
   "cell_type": "code",
   "execution_count": 55,
   "id": "c80a4e6a",
   "metadata": {
    "scrolled": true
   },
   "outputs": [
    {
     "data": {
      "text/html": [
       "<div>\n",
       "<style scoped>\n",
       "    .dataframe tbody tr th:only-of-type {\n",
       "        vertical-align: middle;\n",
       "    }\n",
       "\n",
       "    .dataframe tbody tr th {\n",
       "        vertical-align: top;\n",
       "    }\n",
       "\n",
       "    .dataframe thead th {\n",
       "        text-align: right;\n",
       "    }\n",
       "</style>\n",
       "<table border=\"1\" class=\"dataframe\">\n",
       "  <thead>\n",
       "    <tr style=\"text-align: right;\">\n",
       "      <th></th>\n",
       "      <th>id_prod</th>\n",
       "      <th>price</th>\n",
       "      <th>categ</th>\n",
       "      <th>date</th>\n",
       "      <th>session_id</th>\n",
       "      <th>client_id</th>\n",
       "      <th>sex</th>\n",
       "      <th>birth</th>\n",
       "      <th>month_year</th>\n",
       "      <th>year</th>\n",
       "      <th>age</th>\n",
       "    </tr>\n",
       "  </thead>\n",
       "  <tbody>\n",
       "    <tr>\n",
       "      <th>0</th>\n",
       "      <td>0_1421</td>\n",
       "      <td>19.99</td>\n",
       "      <td>0</td>\n",
       "      <td>2022-02-20</td>\n",
       "      <td>s_168213</td>\n",
       "      <td>c_6389</td>\n",
       "      <td>f</td>\n",
       "      <td>1991</td>\n",
       "      <td>2022-02</td>\n",
       "      <td>2022</td>\n",
       "      <td>31</td>\n",
       "    </tr>\n",
       "    <tr>\n",
       "      <th>1</th>\n",
       "      <td>0_1421</td>\n",
       "      <td>19.99</td>\n",
       "      <td>0</td>\n",
       "      <td>2022-10-20</td>\n",
       "      <td>s_285450</td>\n",
       "      <td>c_6389</td>\n",
       "      <td>f</td>\n",
       "      <td>1991</td>\n",
       "      <td>2022-10</td>\n",
       "      <td>2022</td>\n",
       "      <td>31</td>\n",
       "    </tr>\n",
       "    <tr>\n",
       "      <th>2</th>\n",
       "      <td>0_2131</td>\n",
       "      <td>8.99</td>\n",
       "      <td>0</td>\n",
       "      <td>2021-10-09</td>\n",
       "      <td>s_102458</td>\n",
       "      <td>c_6389</td>\n",
       "      <td>f</td>\n",
       "      <td>1991</td>\n",
       "      <td>2021-10</td>\n",
       "      <td>2021</td>\n",
       "      <td>30</td>\n",
       "    </tr>\n",
       "    <tr>\n",
       "      <th>3</th>\n",
       "      <td>0_1635</td>\n",
       "      <td>16.99</td>\n",
       "      <td>0</td>\n",
       "      <td>2021-04-28</td>\n",
       "      <td>s_26841</td>\n",
       "      <td>c_6389</td>\n",
       "      <td>f</td>\n",
       "      <td>1991</td>\n",
       "      <td>2021-04</td>\n",
       "      <td>2021</td>\n",
       "      <td>30</td>\n",
       "    </tr>\n",
       "    <tr>\n",
       "      <th>4</th>\n",
       "      <td>0_166</td>\n",
       "      <td>1.83</td>\n",
       "      <td>0</td>\n",
       "      <td>2021-07-15</td>\n",
       "      <td>s_62585</td>\n",
       "      <td>c_6389</td>\n",
       "      <td>f</td>\n",
       "      <td>1991</td>\n",
       "      <td>2021-07</td>\n",
       "      <td>2021</td>\n",
       "      <td>30</td>\n",
       "    </tr>\n",
       "  </tbody>\n",
       "</table>\n",
       "</div>"
      ],
      "text/plain": [
       "  id_prod  price  categ        date session_id client_id sex  birth  \\\n",
       "0  0_1421  19.99      0  2022-02-20   s_168213    c_6389   f   1991   \n",
       "1  0_1421  19.99      0  2022-10-20   s_285450    c_6389   f   1991   \n",
       "2  0_2131   8.99      0  2021-10-09   s_102458    c_6389   f   1991   \n",
       "3  0_1635  16.99      0  2021-04-28    s_26841    c_6389   f   1991   \n",
       "4   0_166   1.83      0  2021-07-15    s_62585    c_6389   f   1991   \n",
       "\n",
       "  month_year  year  age  \n",
       "0    2022-02  2022   31  \n",
       "1    2022-10  2022   31  \n",
       "2    2021-10  2021   30  \n",
       "3    2021-04  2021   30  \n",
       "4    2021-07  2021   30  "
      ]
     },
     "execution_count": 55,
     "metadata": {},
     "output_type": "execute_result"
    }
   ],
   "source": [
    "df.head()"
   ]
  },
  {
   "cell_type": "code",
   "execution_count": 56,
   "id": "60ec0692",
   "metadata": {
    "scrolled": false
   },
   "outputs": [
    {
     "data": {
      "text/html": [
       "<div>\n",
       "<style scoped>\n",
       "    .dataframe tbody tr th:only-of-type {\n",
       "        vertical-align: middle;\n",
       "    }\n",
       "\n",
       "    .dataframe tbody tr th {\n",
       "        vertical-align: top;\n",
       "    }\n",
       "\n",
       "    .dataframe thead th {\n",
       "        text-align: right;\n",
       "    }\n",
       "</style>\n",
       "<table border=\"1\" class=\"dataframe\">\n",
       "  <thead>\n",
       "    <tr style=\"text-align: right;\">\n",
       "      <th></th>\n",
       "      <th>id_prod</th>\n",
       "      <th>price</th>\n",
       "      <th>categ</th>\n",
       "      <th>date</th>\n",
       "      <th>session_id</th>\n",
       "      <th>client_id</th>\n",
       "      <th>sex</th>\n",
       "      <th>birth</th>\n",
       "      <th>month_year</th>\n",
       "      <th>year</th>\n",
       "      <th>age</th>\n",
       "    </tr>\n",
       "  </thead>\n",
       "  <tbody>\n",
       "    <tr>\n",
       "      <th>count</th>\n",
       "      <td>679111</td>\n",
       "      <td>679111.000000</td>\n",
       "      <td>679111.000000</td>\n",
       "      <td>679111</td>\n",
       "      <td>679111</td>\n",
       "      <td>679111</td>\n",
       "      <td>679111</td>\n",
       "      <td>679111.000000</td>\n",
       "      <td>679111</td>\n",
       "      <td>679111.000000</td>\n",
       "      <td>679111.000000</td>\n",
       "    </tr>\n",
       "    <tr>\n",
       "      <th>unique</th>\n",
       "      <td>3265</td>\n",
       "      <td>NaN</td>\n",
       "      <td>NaN</td>\n",
       "      <td>730</td>\n",
       "      <td>342275</td>\n",
       "      <td>8600</td>\n",
       "      <td>2</td>\n",
       "      <td>NaN</td>\n",
       "      <td>24</td>\n",
       "      <td>NaN</td>\n",
       "      <td>NaN</td>\n",
       "    </tr>\n",
       "    <tr>\n",
       "      <th>top</th>\n",
       "      <td>1_369</td>\n",
       "      <td>NaN</td>\n",
       "      <td>NaN</td>\n",
       "      <td>2022-11-30</td>\n",
       "      <td>s_118668</td>\n",
       "      <td>c_1609</td>\n",
       "      <td>m</td>\n",
       "      <td>NaN</td>\n",
       "      <td>2021-09</td>\n",
       "      <td>NaN</td>\n",
       "      <td>NaN</td>\n",
       "    </tr>\n",
       "    <tr>\n",
       "      <th>freq</th>\n",
       "      <td>2252</td>\n",
       "      <td>NaN</td>\n",
       "      <td>NaN</td>\n",
       "      <td>1311</td>\n",
       "      <td>14</td>\n",
       "      <td>25488</td>\n",
       "      <td>340826</td>\n",
       "      <td>NaN</td>\n",
       "      <td>33314</td>\n",
       "      <td>NaN</td>\n",
       "      <td>NaN</td>\n",
       "    </tr>\n",
       "    <tr>\n",
       "      <th>mean</th>\n",
       "      <td>NaN</td>\n",
       "      <td>17.454773</td>\n",
       "      <td>0.441953</td>\n",
       "      <td>NaN</td>\n",
       "      <td>NaN</td>\n",
       "      <td>NaN</td>\n",
       "      <td>NaN</td>\n",
       "      <td>1977.811149</td>\n",
       "      <td>NaN</td>\n",
       "      <td>2021.670503</td>\n",
       "      <td>43.859354</td>\n",
       "    </tr>\n",
       "    <tr>\n",
       "      <th>std</th>\n",
       "      <td>NaN</td>\n",
       "      <td>18.328998</td>\n",
       "      <td>0.595042</td>\n",
       "      <td>NaN</td>\n",
       "      <td>NaN</td>\n",
       "      <td>NaN</td>\n",
       "      <td>NaN</td>\n",
       "      <td>13.575361</td>\n",
       "      <td>NaN</td>\n",
       "      <td>0.617562</td>\n",
       "      <td>13.591033</td>\n",
       "    </tr>\n",
       "    <tr>\n",
       "      <th>min</th>\n",
       "      <td>NaN</td>\n",
       "      <td>0.620000</td>\n",
       "      <td>0.000000</td>\n",
       "      <td>NaN</td>\n",
       "      <td>NaN</td>\n",
       "      <td>NaN</td>\n",
       "      <td>NaN</td>\n",
       "      <td>1929.000000</td>\n",
       "      <td>NaN</td>\n",
       "      <td>2021.000000</td>\n",
       "      <td>17.000000</td>\n",
       "    </tr>\n",
       "    <tr>\n",
       "      <th>25%</th>\n",
       "      <td>NaN</td>\n",
       "      <td>8.870000</td>\n",
       "      <td>0.000000</td>\n",
       "      <td>NaN</td>\n",
       "      <td>NaN</td>\n",
       "      <td>NaN</td>\n",
       "      <td>NaN</td>\n",
       "      <td>1970.000000</td>\n",
       "      <td>NaN</td>\n",
       "      <td>2021.000000</td>\n",
       "      <td>35.000000</td>\n",
       "    </tr>\n",
       "    <tr>\n",
       "      <th>50%</th>\n",
       "      <td>NaN</td>\n",
       "      <td>13.990000</td>\n",
       "      <td>0.000000</td>\n",
       "      <td>NaN</td>\n",
       "      <td>NaN</td>\n",
       "      <td>NaN</td>\n",
       "      <td>NaN</td>\n",
       "      <td>1980.000000</td>\n",
       "      <td>NaN</td>\n",
       "      <td>2022.000000</td>\n",
       "      <td>42.000000</td>\n",
       "    </tr>\n",
       "    <tr>\n",
       "      <th>75%</th>\n",
       "      <td>NaN</td>\n",
       "      <td>18.990000</td>\n",
       "      <td>1.000000</td>\n",
       "      <td>NaN</td>\n",
       "      <td>NaN</td>\n",
       "      <td>NaN</td>\n",
       "      <td>NaN</td>\n",
       "      <td>1987.000000</td>\n",
       "      <td>NaN</td>\n",
       "      <td>2022.000000</td>\n",
       "      <td>51.000000</td>\n",
       "    </tr>\n",
       "    <tr>\n",
       "      <th>max</th>\n",
       "      <td>NaN</td>\n",
       "      <td>300.000000</td>\n",
       "      <td>2.000000</td>\n",
       "      <td>NaN</td>\n",
       "      <td>NaN</td>\n",
       "      <td>NaN</td>\n",
       "      <td>NaN</td>\n",
       "      <td>2004.000000</td>\n",
       "      <td>NaN</td>\n",
       "      <td>2023.000000</td>\n",
       "      <td>94.000000</td>\n",
       "    </tr>\n",
       "  </tbody>\n",
       "</table>\n",
       "</div>"
      ],
      "text/plain": [
       "       id_prod          price          categ        date session_id client_id  \\\n",
       "count   679111  679111.000000  679111.000000      679111     679111    679111   \n",
       "unique    3265            NaN            NaN         730     342275      8600   \n",
       "top      1_369            NaN            NaN  2022-11-30   s_118668    c_1609   \n",
       "freq      2252            NaN            NaN        1311         14     25488   \n",
       "mean       NaN      17.454773       0.441953         NaN        NaN       NaN   \n",
       "std        NaN      18.328998       0.595042         NaN        NaN       NaN   \n",
       "min        NaN       0.620000       0.000000         NaN        NaN       NaN   \n",
       "25%        NaN       8.870000       0.000000         NaN        NaN       NaN   \n",
       "50%        NaN      13.990000       0.000000         NaN        NaN       NaN   \n",
       "75%        NaN      18.990000       1.000000         NaN        NaN       NaN   \n",
       "max        NaN     300.000000       2.000000         NaN        NaN       NaN   \n",
       "\n",
       "           sex          birth month_year           year            age  \n",
       "count   679111  679111.000000     679111  679111.000000  679111.000000  \n",
       "unique       2            NaN         24            NaN            NaN  \n",
       "top          m            NaN    2021-09            NaN            NaN  \n",
       "freq    340826            NaN      33314            NaN            NaN  \n",
       "mean       NaN    1977.811149        NaN    2021.670503      43.859354  \n",
       "std        NaN      13.575361        NaN       0.617562      13.591033  \n",
       "min        NaN    1929.000000        NaN    2021.000000      17.000000  \n",
       "25%        NaN    1970.000000        NaN    2021.000000      35.000000  \n",
       "50%        NaN    1980.000000        NaN    2022.000000      42.000000  \n",
       "75%        NaN    1987.000000        NaN    2022.000000      51.000000  \n",
       "max        NaN    2004.000000        NaN    2023.000000      94.000000  "
      ]
     },
     "execution_count": 56,
     "metadata": {},
     "output_type": "execute_result"
    }
   ],
   "source": [
    "#Faire des statistiques rapides\n",
    "df.describe(include='all')"
   ]
  },
  {
   "cell_type": "code",
   "execution_count": 57,
   "id": "6c53e4d3",
   "metadata": {},
   "outputs": [
    {
     "data": {
      "text/plain": [
       "id_prod       0\n",
       "price         0\n",
       "categ         0\n",
       "date          0\n",
       "session_id    0\n",
       "client_id     0\n",
       "sex           0\n",
       "birth         0\n",
       "month_year    0\n",
       "year          0\n",
       "age           0\n",
       "dtype: int64"
      ]
     },
     "execution_count": 57,
     "metadata": {},
     "output_type": "execute_result"
    }
   ],
   "source": [
    "#Vérifier des valeurs manquantes\n",
    "df.isna().sum()"
   ]
  },
  {
   "cell_type": "code",
   "execution_count": 58,
   "id": "134ed172",
   "metadata": {},
   "outputs": [
    {
     "name": "stdout",
     "output_type": "stream",
     "text": [
      "<class 'pandas.core.frame.DataFrame'>\n",
      "Int64Index: 679111 entries, 0 to 679310\n",
      "Data columns (total 11 columns):\n",
      " #   Column      Non-Null Count   Dtype    \n",
      "---  ------      --------------   -----    \n",
      " 0   id_prod     679111 non-null  object   \n",
      " 1   price       679111 non-null  float64  \n",
      " 2   categ       679111 non-null  int64    \n",
      " 3   date        679111 non-null  object   \n",
      " 4   session_id  679111 non-null  object   \n",
      " 5   client_id   679111 non-null  object   \n",
      " 6   sex         679111 non-null  object   \n",
      " 7   birth       679111 non-null  int64    \n",
      " 8   month_year  679111 non-null  period[M]\n",
      " 9   year        679111 non-null  int64    \n",
      " 10  age         679111 non-null  int64    \n",
      "dtypes: float64(1), int64(4), object(5), period[M](1)\n",
      "memory usage: 62.2+ MB\n"
     ]
    }
   ],
   "source": [
    "#Afficher des colonnes\n",
    "df.info()"
   ]
  },
  {
   "cell_type": "markdown",
   "id": "4451666b",
   "metadata": {},
   "source": [
    "## Analysez des différents indicateurs et graphiques autour du chiffres d’affaires. "
   ]
  },
  {
   "cell_type": "code",
   "execution_count": 59,
   "id": "a93290a0",
   "metadata": {},
   "outputs": [
    {
     "data": {
      "text/plain": [
       "11853728.68"
      ]
     },
     "execution_count": 59,
     "metadata": {},
     "output_type": "execute_result"
    }
   ],
   "source": [
    "#Calculer le total chiffres d'affaires\n",
    "CA=round(df['price'].sum(),2)\n",
    "CA"
   ]
  },
  {
   "cell_type": "code",
   "execution_count": 60,
   "id": "5e3a0241",
   "metadata": {
    "scrolled": false
   },
   "outputs": [
    {
     "data": {
      "text/html": [
       "<div>\n",
       "<style scoped>\n",
       "    .dataframe tbody tr th:only-of-type {\n",
       "        vertical-align: middle;\n",
       "    }\n",
       "\n",
       "    .dataframe tbody tr th {\n",
       "        vertical-align: top;\n",
       "    }\n",
       "\n",
       "    .dataframe thead th {\n",
       "        text-align: right;\n",
       "    }\n",
       "</style>\n",
       "<table border=\"1\" class=\"dataframe\">\n",
       "  <thead>\n",
       "    <tr style=\"text-align: right;\">\n",
       "      <th></th>\n",
       "      <th>month_year</th>\n",
       "      <th>price</th>\n",
       "    </tr>\n",
       "  </thead>\n",
       "  <tbody>\n",
       "    <tr>\n",
       "      <th>0</th>\n",
       "      <td>2021-03</td>\n",
       "      <td>482440.61</td>\n",
       "    </tr>\n",
       "    <tr>\n",
       "      <th>1</th>\n",
       "      <td>2021-04</td>\n",
       "      <td>476109.30</td>\n",
       "    </tr>\n",
       "    <tr>\n",
       "      <th>2</th>\n",
       "      <td>2021-05</td>\n",
       "      <td>492943.47</td>\n",
       "    </tr>\n",
       "    <tr>\n",
       "      <th>3</th>\n",
       "      <td>2021-06</td>\n",
       "      <td>484088.56</td>\n",
       "    </tr>\n",
       "    <tr>\n",
       "      <th>4</th>\n",
       "      <td>2021-07</td>\n",
       "      <td>482835.40</td>\n",
       "    </tr>\n",
       "    <tr>\n",
       "      <th>5</th>\n",
       "      <td>2021-08</td>\n",
       "      <td>482284.79</td>\n",
       "    </tr>\n",
       "    <tr>\n",
       "      <th>6</th>\n",
       "      <td>2021-09</td>\n",
       "      <td>507240.68</td>\n",
       "    </tr>\n",
       "    <tr>\n",
       "      <th>7</th>\n",
       "      <td>2021-10</td>\n",
       "      <td>320798.74</td>\n",
       "    </tr>\n",
       "    <tr>\n",
       "      <th>8</th>\n",
       "      <td>2021-11</td>\n",
       "      <td>516167.73</td>\n",
       "    </tr>\n",
       "    <tr>\n",
       "      <th>9</th>\n",
       "      <td>2021-12</td>\n",
       "      <td>525917.28</td>\n",
       "    </tr>\n",
       "    <tr>\n",
       "      <th>10</th>\n",
       "      <td>2022-01</td>\n",
       "      <td>525338.99</td>\n",
       "    </tr>\n",
       "    <tr>\n",
       "      <th>11</th>\n",
       "      <td>2022-02</td>\n",
       "      <td>535571.50</td>\n",
       "    </tr>\n",
       "    <tr>\n",
       "      <th>12</th>\n",
       "      <td>2022-03</td>\n",
       "      <td>515456.53</td>\n",
       "    </tr>\n",
       "    <tr>\n",
       "      <th>13</th>\n",
       "      <td>2022-04</td>\n",
       "      <td>492998.94</td>\n",
       "    </tr>\n",
       "    <tr>\n",
       "      <th>14</th>\n",
       "      <td>2022-05</td>\n",
       "      <td>517132.60</td>\n",
       "    </tr>\n",
       "    <tr>\n",
       "      <th>15</th>\n",
       "      <td>2022-06</td>\n",
       "      <td>496016.12</td>\n",
       "    </tr>\n",
       "    <tr>\n",
       "      <th>16</th>\n",
       "      <td>2022-07</td>\n",
       "      <td>510783.12</td>\n",
       "    </tr>\n",
       "    <tr>\n",
       "      <th>17</th>\n",
       "      <td>2022-08</td>\n",
       "      <td>506467.27</td>\n",
       "    </tr>\n",
       "    <tr>\n",
       "      <th>18</th>\n",
       "      <td>2022-09</td>\n",
       "      <td>494114.53</td>\n",
       "    </tr>\n",
       "    <tr>\n",
       "      <th>19</th>\n",
       "      <td>2022-10</td>\n",
       "      <td>507917.77</td>\n",
       "    </tr>\n",
       "    <tr>\n",
       "      <th>20</th>\n",
       "      <td>2022-11</td>\n",
       "      <td>496664.94</td>\n",
       "    </tr>\n",
       "    <tr>\n",
       "      <th>21</th>\n",
       "      <td>2022-12</td>\n",
       "      <td>510219.50</td>\n",
       "    </tr>\n",
       "    <tr>\n",
       "      <th>22</th>\n",
       "      <td>2023-01</td>\n",
       "      <td>517540.55</td>\n",
       "    </tr>\n",
       "    <tr>\n",
       "      <th>23</th>\n",
       "      <td>2023-02</td>\n",
       "      <td>456679.76</td>\n",
       "    </tr>\n",
       "  </tbody>\n",
       "</table>\n",
       "</div>"
      ],
      "text/plain": [
       "   month_year      price\n",
       "0     2021-03  482440.61\n",
       "1     2021-04  476109.30\n",
       "2     2021-05  492943.47\n",
       "3     2021-06  484088.56\n",
       "4     2021-07  482835.40\n",
       "5     2021-08  482284.79\n",
       "6     2021-09  507240.68\n",
       "7     2021-10  320798.74\n",
       "8     2021-11  516167.73\n",
       "9     2021-12  525917.28\n",
       "10    2022-01  525338.99\n",
       "11    2022-02  535571.50\n",
       "12    2022-03  515456.53\n",
       "13    2022-04  492998.94\n",
       "14    2022-05  517132.60\n",
       "15    2022-06  496016.12\n",
       "16    2022-07  510783.12\n",
       "17    2022-08  506467.27\n",
       "18    2022-09  494114.53\n",
       "19    2022-10  507917.77\n",
       "20    2022-11  496664.94\n",
       "21    2022-12  510219.50\n",
       "22    2023-01  517540.55\n",
       "23    2023-02  456679.76"
      ]
     },
     "execution_count": 60,
     "metadata": {},
     "output_type": "execute_result"
    }
   ],
   "source": [
    "#Calculer des chiffres d'affaires mensuelle \n",
    "CA_mensuelle=df.groupby('month_year').price.sum().reset_index()\n",
    "CA_mensuelle"
   ]
  },
  {
   "cell_type": "code",
   "execution_count": 61,
   "id": "a27b8967",
   "metadata": {},
   "outputs": [
    {
     "data": {
      "text/plain": [
       "<AxesSubplot:xlabel='categ', ylabel='price'>"
      ]
     },
     "execution_count": 61,
     "metadata": {},
     "output_type": "execute_result"
    },
    {
     "data": {
      "image/png": "[encoded data removed]",
      "text/plain": [
       "<Figure size 432x288 with 1 Axes>"
      ]
     },
     "metadata": {
      "needs_background": "light"
     },
     "output_type": "display_data"
    }
   ],
   "source": [
    "#Afficher des valeurs aberrantes pour les 3 catégories\n",
    "sns.boxplot( x=df[\"categ\"], y=df[\"price\"], data=df)"
   ]
  },
  {
   "cell_type": "code",
   "execution_count": 62,
   "id": "baf3cfbf",
   "metadata": {},
   "outputs": [],
   "source": [
    "#Ecrire une fonction qui va lister les prix considérées comme des outliers\n",
    "data_outliers=pd.DataFrame([])\n",
    "\n",
    "def box_outliers(series):\n",
    "    Q1=series.quantile(0.25)\n",
    "    Q3=series.quantile(0.75)\n",
    "    IQR=Q3-Q1\n",
    "    mask=(series<Q1-1.5*IQR)|(series>Q3+1.5*IQR)\n",
    "    series=series[mask]\n",
    "    return series\n"
   ]
  },
  {
   "cell_type": "code",
   "execution_count": 63,
   "id": "d3a22ca9",
   "metadata": {},
   "outputs": [
    {
     "name": "stderr",
     "output_type": "stream",
     "text": [
      "/var/folders/ff/46z7kp5x47l47x9jhyp0dd940000gn/T/ipykernel_1954/4065113197.py:7: FutureWarning: The frame.append method is deprecated and will be removed from pandas in a future version. Use pandas.concat instead.\n",
      "  data_outliers = data_outliers.append(df_outlier)\n",
      "/var/folders/ff/46z7kp5x47l47x9jhyp0dd940000gn/T/ipykernel_1954/4065113197.py:7: FutureWarning: The frame.append method is deprecated and will be removed from pandas in a future version. Use pandas.concat instead.\n",
      "  data_outliers = data_outliers.append(df_outlier)\n",
      "/var/folders/ff/46z7kp5x47l47x9jhyp0dd940000gn/T/ipykernel_1954/4065113197.py:7: FutureWarning: The frame.append method is deprecated and will be removed from pandas in a future version. Use pandas.concat instead.\n",
      "  data_outliers = data_outliers.append(df_outlier)\n"
     ]
    }
   ],
   "source": [
    "#Chercher des outliers pour chaque catégorie\n",
    "for i in df.copy().categ.unique():    \n",
    "    df_outlier = df.copy().sort_values(['categ'])\n",
    "    df_outlier = df_outlier.loc[df_outlier['categ']==i,:].reset_index(drop=True)\n",
    "    df_outlier = df_outlier[['categ','price']].set_index('categ').apply(box_outliers)\n",
    "    df_outlier = df_outlier.reset_index()\n",
    "    data_outliers = data_outliers.append(df_outlier)"
   ]
  },
  {
   "cell_type": "code",
   "execution_count": 64,
   "id": "b14f58d1",
   "metadata": {},
   "outputs": [
    {
     "data": {
      "text/html": [
       "<div>\n",
       "<style scoped>\n",
       "    .dataframe tbody tr th:only-of-type {\n",
       "        vertical-align: middle;\n",
       "    }\n",
       "\n",
       "    .dataframe tbody tr th {\n",
       "        vertical-align: top;\n",
       "    }\n",
       "\n",
       "    .dataframe thead th {\n",
       "        text-align: right;\n",
       "    }\n",
       "</style>\n",
       "<table border=\"1\" class=\"dataframe\">\n",
       "  <thead>\n",
       "    <tr style=\"text-align: right;\">\n",
       "      <th></th>\n",
       "      <th>categ</th>\n",
       "      <th>price</th>\n",
       "    </tr>\n",
       "  </thead>\n",
       "  <tbody>\n",
       "    <tr>\n",
       "      <th>0</th>\n",
       "      <td>0</td>\n",
       "      <td>29.99</td>\n",
       "    </tr>\n",
       "    <tr>\n",
       "      <th>1</th>\n",
       "      <td>0</td>\n",
       "      <td>28.57</td>\n",
       "    </tr>\n",
       "    <tr>\n",
       "      <th>2</th>\n",
       "      <td>0</td>\n",
       "      <td>28.57</td>\n",
       "    </tr>\n",
       "    <tr>\n",
       "      <th>3</th>\n",
       "      <td>0</td>\n",
       "      <td>26.99</td>\n",
       "    </tr>\n",
       "    <tr>\n",
       "      <th>4</th>\n",
       "      <td>0</td>\n",
       "      <td>28.99</td>\n",
       "    </tr>\n",
       "    <tr>\n",
       "      <th>...</th>\n",
       "      <td>...</td>\n",
       "      <td>...</td>\n",
       "    </tr>\n",
       "    <tr>\n",
       "      <th>11940</th>\n",
       "      <td>2</td>\n",
       "      <td>115.93</td>\n",
       "    </tr>\n",
       "    <tr>\n",
       "      <th>11941</th>\n",
       "      <td>2</td>\n",
       "      <td>157.42</td>\n",
       "    </tr>\n",
       "    <tr>\n",
       "      <th>11942</th>\n",
       "      <td>2</td>\n",
       "      <td>157.42</td>\n",
       "    </tr>\n",
       "    <tr>\n",
       "      <th>11943</th>\n",
       "      <td>2</td>\n",
       "      <td>145.99</td>\n",
       "    </tr>\n",
       "    <tr>\n",
       "      <th>11944</th>\n",
       "      <td>2</td>\n",
       "      <td>145.99</td>\n",
       "    </tr>\n",
       "  </tbody>\n",
       "</table>\n",
       "<p>11945 rows × 2 columns</p>\n",
       "</div>"
      ],
      "text/plain": [
       "       categ   price\n",
       "0          0   29.99\n",
       "1          0   28.57\n",
       "2          0   28.57\n",
       "3          0   26.99\n",
       "4          0   28.99\n",
       "...      ...     ...\n",
       "11940      2  115.93\n",
       "11941      2  157.42\n",
       "11942      2  157.42\n",
       "11943      2  145.99\n",
       "11944      2  145.99\n",
       "\n",
       "[11945 rows x 2 columns]"
      ]
     },
     "execution_count": 64,
     "metadata": {},
     "output_type": "execute_result"
    }
   ],
   "source": [
    "#Lister tous des outliers\n",
    "data_outliers.reset_index(drop=True)"
   ]
  },
  {
   "cell_type": "code",
   "execution_count": 65,
   "id": "2ec597e4",
   "metadata": {},
   "outputs": [
    {
     "data": {
      "text/html": [
       "<div>\n",
       "<style scoped>\n",
       "    .dataframe tbody tr th:only-of-type {\n",
       "        vertical-align: middle;\n",
       "    }\n",
       "\n",
       "    .dataframe tbody tr th {\n",
       "        vertical-align: top;\n",
       "    }\n",
       "\n",
       "    .dataframe thead th {\n",
       "        text-align: right;\n",
       "    }\n",
       "</style>\n",
       "<table border=\"1\" class=\"dataframe\">\n",
       "  <thead>\n",
       "    <tr style=\"text-align: right;\">\n",
       "      <th></th>\n",
       "      <th>categ</th>\n",
       "      <th>price</th>\n",
       "    </tr>\n",
       "  </thead>\n",
       "  <tbody>\n",
       "    <tr>\n",
       "      <th>0</th>\n",
       "      <td>0</td>\n",
       "      <td>29.99</td>\n",
       "    </tr>\n",
       "    <tr>\n",
       "      <th>1</th>\n",
       "      <td>0</td>\n",
       "      <td>28.57</td>\n",
       "    </tr>\n",
       "    <tr>\n",
       "      <th>2</th>\n",
       "      <td>0</td>\n",
       "      <td>28.57</td>\n",
       "    </tr>\n",
       "    <tr>\n",
       "      <th>3</th>\n",
       "      <td>0</td>\n",
       "      <td>26.99</td>\n",
       "    </tr>\n",
       "    <tr>\n",
       "      <th>4</th>\n",
       "      <td>0</td>\n",
       "      <td>28.99</td>\n",
       "    </tr>\n",
       "    <tr>\n",
       "      <th>...</th>\n",
       "      <td>...</td>\n",
       "      <td>...</td>\n",
       "    </tr>\n",
       "    <tr>\n",
       "      <th>842</th>\n",
       "      <td>0</td>\n",
       "      <td>37.99</td>\n",
       "    </tr>\n",
       "    <tr>\n",
       "      <th>843</th>\n",
       "      <td>0</td>\n",
       "      <td>37.99</td>\n",
       "    </tr>\n",
       "    <tr>\n",
       "      <th>844</th>\n",
       "      <td>0</td>\n",
       "      <td>37.99</td>\n",
       "    </tr>\n",
       "    <tr>\n",
       "      <th>845</th>\n",
       "      <td>0</td>\n",
       "      <td>29.99</td>\n",
       "    </tr>\n",
       "    <tr>\n",
       "      <th>846</th>\n",
       "      <td>0</td>\n",
       "      <td>29.99</td>\n",
       "    </tr>\n",
       "  </tbody>\n",
       "</table>\n",
       "<p>847 rows × 2 columns</p>\n",
       "</div>"
      ],
      "text/plain": [
       "     categ  price\n",
       "0        0  29.99\n",
       "1        0  28.57\n",
       "2        0  28.57\n",
       "3        0  26.99\n",
       "4        0  28.99\n",
       "..     ...    ...\n",
       "842      0  37.99\n",
       "843      0  37.99\n",
       "844      0  37.99\n",
       "845      0  29.99\n",
       "846      0  29.99\n",
       "\n",
       "[847 rows x 2 columns]"
      ]
     },
     "execution_count": 65,
     "metadata": {},
     "output_type": "execute_result"
    }
   ],
   "source": [
    "#Afficher des outliers pour le 'categ' 0\n",
    "data_outliers[data_outliers['categ']==0]"
   ]
  },
  {
   "cell_type": "code",
   "execution_count": 66,
   "id": "67fcf70b",
   "metadata": {},
   "outputs": [
    {
     "data": {
      "text/html": [
       "<div>\n",
       "<style scoped>\n",
       "    .dataframe tbody tr th:only-of-type {\n",
       "        vertical-align: middle;\n",
       "    }\n",
       "\n",
       "    .dataframe tbody tr th {\n",
       "        vertical-align: top;\n",
       "    }\n",
       "\n",
       "    .dataframe thead th {\n",
       "        text-align: right;\n",
       "    }\n",
       "</style>\n",
       "<table border=\"1\" class=\"dataframe\">\n",
       "  <thead>\n",
       "    <tr style=\"text-align: right;\">\n",
       "      <th></th>\n",
       "      <th>categ</th>\n",
       "      <th>price</th>\n",
       "    </tr>\n",
       "  </thead>\n",
       "  <tbody>\n",
       "    <tr>\n",
       "      <th>0</th>\n",
       "      <td>1</td>\n",
       "      <td>58.54</td>\n",
       "    </tr>\n",
       "    <tr>\n",
       "      <th>1</th>\n",
       "      <td>1</td>\n",
       "      <td>58.54</td>\n",
       "    </tr>\n",
       "    <tr>\n",
       "      <th>2</th>\n",
       "      <td>1</td>\n",
       "      <td>40.06</td>\n",
       "    </tr>\n",
       "    <tr>\n",
       "      <th>3</th>\n",
       "      <td>1</td>\n",
       "      <td>40.06</td>\n",
       "    </tr>\n",
       "    <tr>\n",
       "      <th>4</th>\n",
       "      <td>1</td>\n",
       "      <td>40.99</td>\n",
       "    </tr>\n",
       "    <tr>\n",
       "      <th>...</th>\n",
       "      <td>...</td>\n",
       "      <td>...</td>\n",
       "    </tr>\n",
       "    <tr>\n",
       "      <th>4589</th>\n",
       "      <td>1</td>\n",
       "      <td>52.03</td>\n",
       "    </tr>\n",
       "    <tr>\n",
       "      <th>4590</th>\n",
       "      <td>1</td>\n",
       "      <td>45.99</td>\n",
       "    </tr>\n",
       "    <tr>\n",
       "      <th>4591</th>\n",
       "      <td>1</td>\n",
       "      <td>78.83</td>\n",
       "    </tr>\n",
       "    <tr>\n",
       "      <th>4592</th>\n",
       "      <td>1</td>\n",
       "      <td>45.99</td>\n",
       "    </tr>\n",
       "    <tr>\n",
       "      <th>4593</th>\n",
       "      <td>1</td>\n",
       "      <td>59.11</td>\n",
       "    </tr>\n",
       "  </tbody>\n",
       "</table>\n",
       "<p>4594 rows × 2 columns</p>\n",
       "</div>"
      ],
      "text/plain": [
       "      categ  price\n",
       "0         1  58.54\n",
       "1         1  58.54\n",
       "2         1  40.06\n",
       "3         1  40.06\n",
       "4         1  40.99\n",
       "...     ...    ...\n",
       "4589      1  52.03\n",
       "4590      1  45.99\n",
       "4591      1  78.83\n",
       "4592      1  45.99\n",
       "4593      1  59.11\n",
       "\n",
       "[4594 rows x 2 columns]"
      ]
     },
     "execution_count": 66,
     "metadata": {},
     "output_type": "execute_result"
    }
   ],
   "source": [
    "#Afficher des outliers pour le 'categ' 1\n",
    "data_outliers[data_outliers['categ']==1]"
   ]
  },
  {
   "cell_type": "code",
   "execution_count": 67,
   "id": "4bf12911",
   "metadata": {},
   "outputs": [
    {
     "data": {
      "text/html": [
       "<div>\n",
       "<style scoped>\n",
       "    .dataframe tbody tr th:only-of-type {\n",
       "        vertical-align: middle;\n",
       "    }\n",
       "\n",
       "    .dataframe tbody tr th {\n",
       "        vertical-align: top;\n",
       "    }\n",
       "\n",
       "    .dataframe thead th {\n",
       "        text-align: right;\n",
       "    }\n",
       "</style>\n",
       "<table border=\"1\" class=\"dataframe\">\n",
       "  <thead>\n",
       "    <tr style=\"text-align: right;\">\n",
       "      <th></th>\n",
       "      <th>categ</th>\n",
       "      <th>price</th>\n",
       "    </tr>\n",
       "  </thead>\n",
       "  <tbody>\n",
       "    <tr>\n",
       "      <th>0</th>\n",
       "      <td>2</td>\n",
       "      <td>103.99</td>\n",
       "    </tr>\n",
       "    <tr>\n",
       "      <th>1</th>\n",
       "      <td>2</td>\n",
       "      <td>195.99</td>\n",
       "    </tr>\n",
       "    <tr>\n",
       "      <th>2</th>\n",
       "      <td>2</td>\n",
       "      <td>145.99</td>\n",
       "    </tr>\n",
       "    <tr>\n",
       "      <th>3</th>\n",
       "      <td>2</td>\n",
       "      <td>247.22</td>\n",
       "    </tr>\n",
       "    <tr>\n",
       "      <th>4</th>\n",
       "      <td>2</td>\n",
       "      <td>103.99</td>\n",
       "    </tr>\n",
       "    <tr>\n",
       "      <th>...</th>\n",
       "      <td>...</td>\n",
       "      <td>...</td>\n",
       "    </tr>\n",
       "    <tr>\n",
       "      <th>6499</th>\n",
       "      <td>2</td>\n",
       "      <td>115.93</td>\n",
       "    </tr>\n",
       "    <tr>\n",
       "      <th>6500</th>\n",
       "      <td>2</td>\n",
       "      <td>157.42</td>\n",
       "    </tr>\n",
       "    <tr>\n",
       "      <th>6501</th>\n",
       "      <td>2</td>\n",
       "      <td>157.42</td>\n",
       "    </tr>\n",
       "    <tr>\n",
       "      <th>6502</th>\n",
       "      <td>2</td>\n",
       "      <td>145.99</td>\n",
       "    </tr>\n",
       "    <tr>\n",
       "      <th>6503</th>\n",
       "      <td>2</td>\n",
       "      <td>145.99</td>\n",
       "    </tr>\n",
       "  </tbody>\n",
       "</table>\n",
       "<p>6504 rows × 2 columns</p>\n",
       "</div>"
      ],
      "text/plain": [
       "      categ   price\n",
       "0         2  103.99\n",
       "1         2  195.99\n",
       "2         2  145.99\n",
       "3         2  247.22\n",
       "4         2  103.99\n",
       "...     ...     ...\n",
       "6499      2  115.93\n",
       "6500      2  157.42\n",
       "6501      2  157.42\n",
       "6502      2  145.99\n",
       "6503      2  145.99\n",
       "\n",
       "[6504 rows x 2 columns]"
      ]
     },
     "execution_count": 67,
     "metadata": {},
     "output_type": "execute_result"
    }
   ],
   "source": [
    "#Afficher des outliers pour le'categ' 2\n",
    "data_outliers[data_outliers['categ']==2]"
   ]
  },
  {
   "cell_type": "markdown",
   "id": "639ad476",
   "metadata": {},
   "source": [
    "## L’evolution dans le temps et une decomposition en moyenne mobile pour évaluer la tendance globale. "
   ]
  },
  {
   "cell_type": "code",
   "execution_count": 68,
   "id": "f84af30d",
   "metadata": {},
   "outputs": [],
   "source": [
    "#Transformer le type de 'month_year' en format adéquate\n",
    "df['month_year'] = df['month_year'].astype(str)"
   ]
  },
  {
   "cell_type": "code",
   "execution_count": 69,
   "id": "604e4e3b",
   "metadata": {},
   "outputs": [
    {
     "name": "stdout",
     "output_type": "stream",
     "text": [
      "<class 'pandas.core.frame.DataFrame'>\n",
      "RangeIndex: 24 entries, 0 to 23\n",
      "Data columns (total 2 columns):\n",
      " #   Column      Non-Null Count  Dtype    \n",
      "---  ------      --------------  -----    \n",
      " 0   month_year  24 non-null     period[M]\n",
      " 1   price       24 non-null     float64  \n",
      "dtypes: float64(1), period[M](1)\n",
      "memory usage: 512.0 bytes\n"
     ]
    }
   ],
   "source": [
    "#Afficher des types des données dans les colonnes\n",
    "CA_mensuelle.info()"
   ]
  },
  {
   "cell_type": "code",
   "execution_count": 70,
   "id": "cfa757b6",
   "metadata": {},
   "outputs": [],
   "source": [
    "#Transformer le type de 'month_year' en format adéquate\n",
    "CA_mensuelle['month_year'] = CA_mensuelle['month_year'].astype(str)"
   ]
  },
  {
   "cell_type": "code",
   "execution_count": 71,
   "id": "0d5d74f1",
   "metadata": {},
   "outputs": [
    {
     "data": {
      "image/png": "[encoded data removed]",
      "text/plain": [
       "<Figure size 720x432 with 1 Axes>"
      ]
     },
     "metadata": {
      "needs_background": "light"
     },
     "output_type": "display_data"
    }
   ],
   "source": [
    "#Tracer le graphique de l'évolution de chiffres d'affaires réalisé par mois\n",
    "plt.figure(figsize=(10,6))\n",
    "plt.rcParams.update({'font.size':14})\n",
    "plt.plot(CA_mensuelle['month_year'],CA_mensuelle['price'])\n",
    "plt.title(\"L'évolution de chiffres d'affaires réalisé par mois\", fontsize=16)\n",
    "plt.ylabel(\"Chiffre d'affaire\")\n",
    "plt.xlabel(\"month_year\",loc='center')\n",
    "plt.ylim(300000,600000)\n",
    "plt.xticks(rotation=90)\n",
    "plt.yticks(rotation=0)\n",
    "plt.show()"
   ]
  },
  {
   "cell_type": "code",
   "execution_count": 72,
   "id": "f9999c12",
   "metadata": {},
   "outputs": [
    {
     "data": {
      "text/html": [
       "<div>\n",
       "<style scoped>\n",
       "    .dataframe tbody tr th:only-of-type {\n",
       "        vertical-align: middle;\n",
       "    }\n",
       "\n",
       "    .dataframe tbody tr th {\n",
       "        vertical-align: top;\n",
       "    }\n",
       "\n",
       "    .dataframe thead th {\n",
       "        text-align: right;\n",
       "    }\n",
       "</style>\n",
       "<table border=\"1\" class=\"dataframe\">\n",
       "  <thead>\n",
       "    <tr style=\"text-align: right;\">\n",
       "      <th></th>\n",
       "      <th>categ</th>\n",
       "      <th>month_year</th>\n",
       "      <th>price</th>\n",
       "    </tr>\n",
       "  </thead>\n",
       "  <tbody>\n",
       "    <tr>\n",
       "      <th>0</th>\n",
       "      <td>0</td>\n",
       "      <td>2021-03</td>\n",
       "      <td>193629.17</td>\n",
       "    </tr>\n",
       "    <tr>\n",
       "      <th>1</th>\n",
       "      <td>0</td>\n",
       "      <td>2021-04</td>\n",
       "      <td>205222.46</td>\n",
       "    </tr>\n",
       "    <tr>\n",
       "      <th>2</th>\n",
       "      <td>0</td>\n",
       "      <td>2021-05</td>\n",
       "      <td>196186.72</td>\n",
       "    </tr>\n",
       "    <tr>\n",
       "      <th>3</th>\n",
       "      <td>0</td>\n",
       "      <td>2021-06</td>\n",
       "      <td>167943.15</td>\n",
       "    </tr>\n",
       "    <tr>\n",
       "      <th>4</th>\n",
       "      <td>0</td>\n",
       "      <td>2021-07</td>\n",
       "      <td>144750.79</td>\n",
       "    </tr>\n",
       "    <tr>\n",
       "      <th>...</th>\n",
       "      <td>...</td>\n",
       "      <td>...</td>\n",
       "      <td>...</td>\n",
       "    </tr>\n",
       "    <tr>\n",
       "      <th>67</th>\n",
       "      <td>2</td>\n",
       "      <td>2022-10</td>\n",
       "      <td>120878.94</td>\n",
       "    </tr>\n",
       "    <tr>\n",
       "      <th>68</th>\n",
       "      <td>2</td>\n",
       "      <td>2022-11</td>\n",
       "      <td>111642.60</td>\n",
       "    </tr>\n",
       "    <tr>\n",
       "      <th>69</th>\n",
       "      <td>2</td>\n",
       "      <td>2022-12</td>\n",
       "      <td>123803.09</td>\n",
       "    </tr>\n",
       "    <tr>\n",
       "      <th>70</th>\n",
       "      <td>2</td>\n",
       "      <td>2023-01</td>\n",
       "      <td>126153.08</td>\n",
       "    </tr>\n",
       "    <tr>\n",
       "      <th>71</th>\n",
       "      <td>2</td>\n",
       "      <td>2023-02</td>\n",
       "      <td>113875.52</td>\n",
       "    </tr>\n",
       "  </tbody>\n",
       "</table>\n",
       "<p>72 rows × 3 columns</p>\n",
       "</div>"
      ],
      "text/plain": [
       "    categ month_year      price\n",
       "0       0    2021-03  193629.17\n",
       "1       0    2021-04  205222.46\n",
       "2       0    2021-05  196186.72\n",
       "3       0    2021-06  167943.15\n",
       "4       0    2021-07  144750.79\n",
       "..    ...        ...        ...\n",
       "67      2    2022-10  120878.94\n",
       "68      2    2022-11  111642.60\n",
       "69      2    2022-12  123803.09\n",
       "70      2    2023-01  126153.08\n",
       "71      2    2023-02  113875.52\n",
       "\n",
       "[72 rows x 3 columns]"
      ]
     },
     "execution_count": 72,
     "metadata": {},
     "output_type": "execute_result"
    }
   ],
   "source": [
    "#Calculer des chiffres d'affaires par mois pour les 3 catégories\n",
    "sum_CA=df.groupby(['categ','month_year'])['price'].sum().reset_index()\n",
    "sum_CA"
   ]
  },
  {
   "cell_type": "code",
   "execution_count": 73,
   "id": "ff8b3bef",
   "metadata": {
    "scrolled": true
   },
   "outputs": [
    {
     "data": {
      "image/png": "[encoded data removed]",
      "text/plain": [
       "<Figure size 720x432 with 1 Axes>"
      ]
     },
     "metadata": {
      "needs_background": "light"
     },
     "output_type": "display_data"
    }
   ],
   "source": [
    "#Créer jeu de données pour toutes les valeurs \n",
    "plt.figure(figsize=(10,6))\n",
    "plt.rcParams.update({'font.size':14})\n",
    "\n",
    "#Loop on the values\n",
    "for categ in sum_CA['categ'].unique():\n",
    "    sum_CA=df.groupby(by=['categ','month_year'])['price'].sum().reset_index()\n",
    "    \n",
    "#Générer le ligne plot\n",
    "sns.lineplot(data=sum_CA,x=sum_CA['month_year'],y=sum_CA['price'],hue = 'categ',estimator=sum)\n",
    "plt.title(\"L'évolution de chiffre d'affaires par les temps\", fontsize=18)\n",
    "plt.xlabel('month_year', fontsize=16)\n",
    "plt.ylabel('price',fontsize=16)\n",
    "plt.ylim(30000,300000)\n",
    "plt.xlim('2021-03','2023-02')\n",
    "plt.xticks(rotation=90)\n",
    "plt.yticks(rotation=0)\n",
    "plt.show()"
   ]
  },
  {
   "cell_type": "code",
   "execution_count": 74,
   "id": "430c5beb",
   "metadata": {},
   "outputs": [],
   "source": [
    "#Explication de la diminution des chiffres d'affaires pour 'categ' 1 en mois octobre 2021\n",
    "df1=df[df['categ']==1]"
   ]
  },
  {
   "cell_type": "code",
   "execution_count": 75,
   "id": "cb7f64bf",
   "metadata": {},
   "outputs": [],
   "source": [
    "#Sélectionner le mois d'octobre 2021\n",
    "df1=df1[df1['month_year']=='2021-10']"
   ]
  },
  {
   "cell_type": "code",
   "execution_count": 76,
   "id": "a3e7719f",
   "metadata": {
    "scrolled": false
   },
   "outputs": [
    {
     "data": {
      "text/plain": [
       "2021-10-01    344\n",
       "2021-10-31    342\n",
       "2021-10-30    338\n",
       "2021-10-29    326\n",
       "2021-10-28    316\n",
       "Name: date, dtype: int64"
      ]
     },
     "execution_count": 76,
     "metadata": {},
     "output_type": "execute_result"
    }
   ],
   "source": [
    "#Compter des nombres d'achats réalisé en octobre 2021\n",
    "df1.date.value_counts()"
   ]
  },
  {
   "cell_type": "code",
   "execution_count": 77,
   "id": "e652d881",
   "metadata": {},
   "outputs": [
    {
     "data": {
      "text/html": [
       "<div>\n",
       "<style scoped>\n",
       "    .dataframe tbody tr th:only-of-type {\n",
       "        vertical-align: middle;\n",
       "    }\n",
       "\n",
       "    .dataframe tbody tr th {\n",
       "        vertical-align: top;\n",
       "    }\n",
       "\n",
       "    .dataframe thead th {\n",
       "        text-align: right;\n",
       "    }\n",
       "</style>\n",
       "<table border=\"1\" class=\"dataframe\">\n",
       "  <thead>\n",
       "    <tr style=\"text-align: right;\">\n",
       "      <th></th>\n",
       "      <th></th>\n",
       "      <th>price</th>\n",
       "    </tr>\n",
       "    <tr>\n",
       "      <th>categ</th>\n",
       "      <th>month_year</th>\n",
       "      <th></th>\n",
       "    </tr>\n",
       "  </thead>\n",
       "  <tbody>\n",
       "    <tr>\n",
       "      <th rowspan=\"5\" valign=\"top\">0</th>\n",
       "      <th>2022-02</th>\n",
       "      <td>NaN</td>\n",
       "    </tr>\n",
       "    <tr>\n",
       "      <th>2022-10</th>\n",
       "      <td>NaN</td>\n",
       "    </tr>\n",
       "    <tr>\n",
       "      <th>2021-10</th>\n",
       "      <td>16.323333</td>\n",
       "    </tr>\n",
       "    <tr>\n",
       "      <th>2021-04</th>\n",
       "      <td>15.323333</td>\n",
       "    </tr>\n",
       "    <tr>\n",
       "      <th>2021-07</th>\n",
       "      <td>9.270000</td>\n",
       "    </tr>\n",
       "    <tr>\n",
       "      <th>...</th>\n",
       "      <th>...</th>\n",
       "      <td>...</td>\n",
       "    </tr>\n",
       "    <tr>\n",
       "      <th rowspan=\"5\" valign=\"top\">2</th>\n",
       "      <th>2022-01</th>\n",
       "      <td>68.990000</td>\n",
       "    </tr>\n",
       "    <tr>\n",
       "      <th>2021-07</th>\n",
       "      <td>67.323333</td>\n",
       "    </tr>\n",
       "    <tr>\n",
       "      <th>2022-12</th>\n",
       "      <td>65.656667</td>\n",
       "    </tr>\n",
       "    <tr>\n",
       "      <th>2022-10</th>\n",
       "      <td>63.990000</td>\n",
       "    </tr>\n",
       "    <tr>\n",
       "      <th>2022-03</th>\n",
       "      <td>63.990000</td>\n",
       "    </tr>\n",
       "  </tbody>\n",
       "</table>\n",
       "<p>679111 rows × 1 columns</p>\n",
       "</div>"
      ],
      "text/plain": [
       "                      price\n",
       "categ month_year           \n",
       "0     2022-02           NaN\n",
       "      2022-10           NaN\n",
       "      2021-10     16.323333\n",
       "      2021-04     15.323333\n",
       "      2021-07      9.270000\n",
       "...                     ...\n",
       "2     2022-01     68.990000\n",
       "      2021-07     67.323333\n",
       "      2022-12     65.656667\n",
       "      2022-10     63.990000\n",
       "      2022-03     63.990000\n",
       "\n",
       "[679111 rows x 1 columns]"
      ]
     },
     "execution_count": 77,
     "metadata": {},
     "output_type": "execute_result"
    }
   ],
   "source": [
    "#Calculer la moyenne mobile\n",
    "moving_avg =df.set_index('month_year').groupby('categ')['price'].rolling(window=3).mean()\n",
    "moving_avg =pd.DataFrame(moving_avg)\n",
    "moving_avg"
   ]
  },
  {
   "cell_type": "code",
   "execution_count": 78,
   "id": "7bbe1b2b",
   "metadata": {
    "scrolled": true
   },
   "outputs": [
    {
     "data": {
      "image/png": "[encoded data removed]",
      "text/plain": [
       "<Figure size 720x432 with 1 Axes>"
      ]
     },
     "metadata": {
      "needs_background": "light"
     },
     "output_type": "display_data"
    }
   ],
   "source": [
    "#Créer jeu de données pour toutes les valeurs \n",
    "plt.figure(figsize=(10,6))\n",
    "plt.rcParams.update({'font.size':14})\n",
    "\n",
    "#Loop on the values\n",
    "for categ in df['categ'].unique():\n",
    "    sum_CA=df.groupby(by=['categ','month_year'])['price'].sum().reset_index()\n",
    "    \n",
    "#Générer le ligne plot\n",
    "sns.lineplot(data=sum_CA,x=sum_CA['month_year'],y=sum_CA['price'],hue = 'categ',estimator=sum)\n",
    "mov_avg =sum_CA.set_index('month_year').groupby('categ')['price'].rolling(window=3).mean().plot()\n",
    "plt.title(\"L'évolution de chiffre d'affaires par les temps\", fontsize=18)\n",
    "plt.xlabel('month_year', fontsize=16)\n",
    "plt.ylabel('price',fontsize=16)\n",
    "plt.ylim(30000,300000)\n",
    "plt.xlim('2021-03','2023-02')\n",
    "plt.xticks(rotation=90)\n",
    "plt.yticks(rotation=0)\n",
    "plt.legend(loc='best')\n",
    "plt.show()"
   ]
  },
  {
   "cell_type": "markdown",
   "id": "00f85c71",
   "metadata": {},
   "source": [
    "## Faire un zoom sur les références, les tops, les flops, la repartition par catégorie."
   ]
  },
  {
   "cell_type": "code",
   "execution_count": 79,
   "id": "aa7ce397",
   "metadata": {
    "scrolled": true
   },
   "outputs": [
    {
     "data": {
      "text/plain": [
       "0    415459\n",
       "1    227169\n",
       "2     36483\n",
       "Name: categ, dtype: int64"
      ]
     },
     "execution_count": 79,
     "metadata": {},
     "output_type": "execute_result"
    }
   ],
   "source": [
    "#Compter des valeurs de chaque 'categ'\n",
    "quantite_categ=df['categ'].value_counts()\n",
    "quantite_categ"
   ]
  },
  {
   "cell_type": "code",
   "execution_count": 80,
   "id": "2e1ba1bf",
   "metadata": {
    "scrolled": true
   },
   "outputs": [
    {
     "data": {
      "text/plain": [
       "<AxesSubplot:>"
      ]
     },
     "execution_count": 80,
     "metadata": {},
     "output_type": "execute_result"
    },
    {
     "data": {
      "image/png": "[encoded data removed]",
      "text/plain": [
       "<Figure size 432x288 with 1 Axes>"
      ]
     },
     "metadata": {
      "needs_background": "light"
     },
     "output_type": "display_data"
    }
   ],
   "source": [
    "#Tracer barplot pour les 3 catégories\n",
    "sns.barplot(x=quantite_categ.index, y=quantite_categ.values)"
   ]
  },
  {
   "cell_type": "code",
   "execution_count": 81,
   "id": "a086de96",
   "metadata": {
    "scrolled": true
   },
   "outputs": [
    {
     "data": {
      "text/html": [
       "<div>\n",
       "<style scoped>\n",
       "    .dataframe tbody tr th:only-of-type {\n",
       "        vertical-align: middle;\n",
       "    }\n",
       "\n",
       "    .dataframe tbody tr th {\n",
       "        vertical-align: top;\n",
       "    }\n",
       "\n",
       "    .dataframe thead th {\n",
       "        text-align: right;\n",
       "    }\n",
       "</style>\n",
       "<table border=\"1\" class=\"dataframe\">\n",
       "  <thead>\n",
       "    <tr style=\"text-align: right;\">\n",
       "      <th></th>\n",
       "      <th>categ</th>\n",
       "      <th>price</th>\n",
       "    </tr>\n",
       "  </thead>\n",
       "  <tbody>\n",
       "    <tr>\n",
       "      <th>0</th>\n",
       "      <td>1</td>\n",
       "      <td>4653722.69</td>\n",
       "    </tr>\n",
       "    <tr>\n",
       "      <th>1</th>\n",
       "      <td>0</td>\n",
       "      <td>4419730.97</td>\n",
       "    </tr>\n",
       "    <tr>\n",
       "      <th>2</th>\n",
       "      <td>2</td>\n",
       "      <td>2780275.02</td>\n",
       "    </tr>\n",
       "  </tbody>\n",
       "</table>\n",
       "</div>"
      ],
      "text/plain": [
       "   categ       price\n",
       "0      1  4653722.69\n",
       "1      0  4419730.97\n",
       "2      2  2780275.02"
      ]
     },
     "execution_count": 81,
     "metadata": {},
     "output_type": "execute_result"
    }
   ],
   "source": [
    "#Calculer des chiffres d'affaires des chaque catégorie\n",
    "df_CA = df.groupby('categ')['price'].sum()\n",
    "df_CA.sort_values(ascending=False).reset_index()\n"
   ]
  },
  {
   "cell_type": "code",
   "execution_count": 82,
   "id": "264744fc",
   "metadata": {},
   "outputs": [
    {
     "data": {
      "text/html": [
       "<div>\n",
       "<style scoped>\n",
       "    .dataframe tbody tr th:only-of-type {\n",
       "        vertical-align: middle;\n",
       "    }\n",
       "\n",
       "    .dataframe tbody tr th {\n",
       "        vertical-align: top;\n",
       "    }\n",
       "\n",
       "    .dataframe thead tr th {\n",
       "        text-align: left;\n",
       "    }\n",
       "\n",
       "    .dataframe thead tr:last-of-type th {\n",
       "        text-align: right;\n",
       "    }\n",
       "</style>\n",
       "<table border=\"1\" class=\"dataframe\">\n",
       "  <thead>\n",
       "    <tr>\n",
       "      <th></th>\n",
       "      <th colspan=\"3\" halign=\"left\">price</th>\n",
       "    </tr>\n",
       "    <tr>\n",
       "      <th></th>\n",
       "      <th>mean</th>\n",
       "      <th>min</th>\n",
       "      <th>max</th>\n",
       "    </tr>\n",
       "    <tr>\n",
       "      <th>categ</th>\n",
       "      <th></th>\n",
       "      <th></th>\n",
       "      <th></th>\n",
       "    </tr>\n",
       "  </thead>\n",
       "  <tbody>\n",
       "    <tr>\n",
       "      <th>0</th>\n",
       "      <td>10.638188</td>\n",
       "      <td>0.62</td>\n",
       "      <td>40.99</td>\n",
       "    </tr>\n",
       "    <tr>\n",
       "      <th>1</th>\n",
       "      <td>20.485730</td>\n",
       "      <td>2.00</td>\n",
       "      <td>80.99</td>\n",
       "    </tr>\n",
       "    <tr>\n",
       "      <th>2</th>\n",
       "      <td>76.207412</td>\n",
       "      <td>30.99</td>\n",
       "      <td>300.00</td>\n",
       "    </tr>\n",
       "  </tbody>\n",
       "</table>\n",
       "</div>"
      ],
      "text/plain": [
       "           price               \n",
       "            mean    min     max\n",
       "categ                          \n",
       "0      10.638188   0.62   40.99\n",
       "1      20.485730   2.00   80.99\n",
       "2      76.207412  30.99  300.00"
      ]
     },
     "execution_count": 82,
     "metadata": {},
     "output_type": "execute_result"
    }
   ],
   "source": [
    "#Calculer des valeurs les moyenne, min et max de prix\n",
    "stat_price=df.groupby('categ').agg({'price':['mean','min','max']})\n",
    "stat_price"
   ]
  },
  {
   "cell_type": "code",
   "execution_count": 83,
   "id": "5da6351c",
   "metadata": {
    "scrolled": false
   },
   "outputs": [
    {
     "data": {
      "image/png": "[encoded data removed]",
      "text/plain": [
       "<Figure size 576x216 with 1 Axes>"
      ]
     },
     "metadata": {
      "needs_background": "light"
     },
     "output_type": "display_data"
    }
   ],
   "source": [
    "#Les moyenne des prix par chaque catégorie\n",
    "plt.figure(figsize=(8,3))\n",
    "sns.boxplot(data=df, y='categ', x='price', orient='h', showfliers=False, showmeans=True, meanprops={\"marker\":\"s\",\"markerfacecolor\":\"white\"})\n",
    "plt.title('Distribution des prix par catégorie')\n",
    "plt.show()"
   ]
  },
  {
   "cell_type": "code",
   "execution_count": 84,
   "id": "6bd042bb",
   "metadata": {},
   "outputs": [
    {
     "name": "stdout",
     "output_type": "stream",
     "text": [
      "La moyenne de categ 2 est à l'écart de la médiane donc la distribution est asymétrique\n"
     ]
    }
   ],
   "source": [
    "print (f'La moyenne de categ 2 est à l\\'écart de la médiane donc la distribution est asymétrique')"
   ]
  },
  {
   "cell_type": "code",
   "execution_count": 85,
   "id": "ca9820bd",
   "metadata": {
    "scrolled": true
   },
   "outputs": [
    {
     "data": {
      "image/png": "[encoded data removed]",
      "text/plain": [
       "<Figure size 432x288 with 1 Axes>"
      ]
     },
     "metadata": {
      "needs_background": "light"
     },
     "output_type": "display_data"
    }
   ],
   "source": [
    "#Distribution des prix\n",
    "import matplotlib.pyplot as plt\n",
    "%matplotlib inline\n",
    "plt.rcParams.update ({'font.size':15})\n",
    "plt.hist(df['price'],bins=range(0,200),density=True)\n",
    "plt.title(\"L'histogramme de prix\")\n",
    "plt.show()"
   ]
  },
  {
   "cell_type": "code",
   "execution_count": 86,
   "id": "3241a84a",
   "metadata": {
    "scrolled": true
   },
   "outputs": [
    {
     "data": {
      "image/png": "[encoded data removed]",
      "text/plain": [
       "<Figure size 423.5x360 with 1 Axes>"
      ]
     },
     "metadata": {
      "needs_background": "light"
     },
     "output_type": "display_data"
    }
   ],
   "source": [
    "#Distribution de prix par les 3 catégories\n",
    "sns.displot(df,x=\"price\",hue=\"categ\",multiple=\"stack\",kde=True, log_scale=True);\n",
    "plt.show()"
   ]
  },
  {
   "cell_type": "code",
   "execution_count": 87,
   "id": "e23b9584",
   "metadata": {
    "scrolled": false
   },
   "outputs": [
    {
     "name": "stdout",
     "output_type": "stream",
     "text": [
      "0\n",
      "moy:\n",
      " 10.638188052306027\n",
      "med:\n",
      " 9.99\n",
      "mod:\n",
      " 0    4.99\n",
      "Name: price, dtype: float64\n",
      "var:\n",
      " 24.339633089385742\n",
      "ect:\n",
      " 4.933521368088492\n",
      "skw:\n",
      " 0.4223663221053796\n",
      "kur:\n",
      " -0.38755488169415075\n"
     ]
    },
    {
     "data": {
      "image/png": "[encoded data removed]",
      "text/plain": [
       "<Figure size 432x288 with 1 Axes>"
      ]
     },
     "metadata": {
      "needs_background": "light"
     },
     "output_type": "display_data"
    },
    {
     "data": {
      "image/png": "[encoded data removed]",
      "text/plain": [
       "<Figure size 432x288 with 1 Axes>"
      ]
     },
     "metadata": {
      "needs_background": "light"
     },
     "output_type": "display_data"
    },
    {
     "name": "stdout",
     "output_type": "stream",
     "text": [
      "1\n",
      "moy:\n",
      " 20.485729523017916\n",
      "med:\n",
      " 19.08\n",
      "mod:\n",
      " 0    15.99\n",
      "Name: price, dtype: float64\n",
      "var:\n",
      " 57.53035707569797\n",
      "ect:\n",
      " 7.584876866218592\n",
      "skw:\n",
      " 1.734237258116207\n",
      "kur:\n",
      " 8.164115605848027\n"
     ]
    },
    {
     "data": {
      "image/png": "[encoded data removed]",
      "text/plain": [
       "<Figure size 432x288 with 1 Axes>"
      ]
     },
     "metadata": {
      "needs_background": "light"
     },
     "output_type": "display_data"
    },
    {
     "data": {
      "image/png": "[encoded data removed]",
      "text/plain": [
       "<Figure size 432x288 with 1 Axes>"
      ]
     },
     "metadata": {
      "needs_background": "light"
     },
     "output_type": "display_data"
    },
    {
     "name": "stdout",
     "output_type": "stream",
     "text": [
      "2\n",
      "moy:\n",
      " 76.20741221941809\n",
      "med:\n",
      " 62.83\n",
      "mod:\n",
      " 0    68.99\n",
      "Name: price, dtype: float64\n",
      "var:\n",
      " 1579.9408534984411\n",
      "ect:\n",
      " 39.74846982587432\n",
      "skw:\n",
      " 2.1835172974115054\n",
      "kur:\n",
      " 4.817061548670196\n"
     ]
    },
    {
     "data": {
      "image/png": "[encoded data removed]",
      "text/plain": [
       "<Figure size 432x288 with 1 Axes>"
      ]
     },
     "metadata": {
      "needs_background": "light"
     },
     "output_type": "display_data"
    },
    {
     "data": {
      "image/png": "[encoded data removed]",
      "text/plain": [
       "<Figure size 432x288 with 1 Axes>"
      ]
     },
     "metadata": {
      "needs_background": "light"
     },
     "output_type": "display_data"
    }
   ],
   "source": [
    "#Faire les statistiques détaillées pour les 3 'categ'\n",
    "for cat in df[\"categ\"].unique():\n",
    "    subset = df[df.categ == cat]\n",
    "    print(cat)\n",
    "    print(\"moy:\\n\",subset['price'].mean())\n",
    "    print(\"med:\\n\",subset['price'].median())\n",
    "    print(\"mod:\\n\",subset['price'].mode())\n",
    "    print(\"var:\\n\",subset['price'].var(ddof=0))\n",
    "    print(\"ect:\\n\",subset['price'].std(ddof=0))\n",
    "    print(\"skw:\\n\",subset['price'].skew())\n",
    "    print(\"kur:\\n\",subset['price'].kurtosis())\n",
    "    subset[\"price\"].hist()\n",
    "    plt.show()\n",
    "    subset.boxplot(column=\"price\", vert=False)\n",
    "    plt.show()\n"
   ]
  },
  {
   "cell_type": "code",
   "execution_count": 88,
   "id": "c24b2c51",
   "metadata": {},
   "outputs": [
    {
     "data": {
      "image/png": "[encoded data removed]",
      "text/plain": [
       "<Figure size 576x360 with 2 Axes>"
      ]
     },
     "metadata": {
      "needs_background": "light"
     },
     "output_type": "display_data"
    }
   ],
   "source": [
    "# Triangle de corrélations\n",
    "plt.figure(figsize=(8, 5))\n",
    "heatmap = sns.heatmap(df.corr(),mask=np.triu(np.ones_like(df.corr(), dtype=bool)), vmin=-1, vmax=1, annot=True, cmap='BrBG')\n",
    "heatmap.set_title('Triangle de corrélations', fontdict={'fontsize':16}, pad=24)\n",
    "plt.xticks(rotation=45)\n",
    "plt.show()"
   ]
  },
  {
   "cell_type": "markdown",
   "id": "29848083",
   "metadata": {},
   "source": [
    "## Une analyse plus ciblée sur les profils des clients. "
   ]
  },
  {
   "cell_type": "code",
   "execution_count": 89,
   "id": "7a8f9982",
   "metadata": {
    "scrolled": false
   },
   "outputs": [
    {
     "data": {
      "text/plain": [
       "sex\n",
       "f    5859683.13\n",
       "m    5994045.55\n",
       "Name: price, dtype: float64"
      ]
     },
     "execution_count": 89,
     "metadata": {},
     "output_type": "execute_result"
    }
   ],
   "source": [
    "#Catégoriser des chiffres d'affaires par genre de clients\n",
    "sex_agreg=df.groupby('sex')['price'].sum()\n",
    "sex_agreg"
   ]
  },
  {
   "cell_type": "code",
   "execution_count": 90,
   "id": "cd90f988",
   "metadata": {
    "scrolled": false
   },
   "outputs": [
    {
     "data": {
      "text/plain": [
       "m    340826\n",
       "f    338285\n",
       "Name: sex, dtype: int64"
      ]
     },
     "execution_count": 90,
     "metadata": {},
     "output_type": "execute_result"
    }
   ],
   "source": [
    "#Désagréger des clients par un comptage\n",
    "sex_agreg=df['sex'].value_counts()\n",
    "sex_agreg"
   ]
  },
  {
   "cell_type": "code",
   "execution_count": 91,
   "id": "952d221d",
   "metadata": {},
   "outputs": [
    {
     "name": "stderr",
     "output_type": "stream",
     "text": [
      "/opt/anaconda3/lib/python3.9/site-packages/seaborn/_decorators.py:36: FutureWarning: Pass the following variable as a keyword arg: x. From version 0.12, the only valid positional argument will be `data`, and passing other arguments without an explicit keyword will result in an error or misinterpretation.\n",
      "  warnings.warn(\n"
     ]
    },
    {
     "data": {
      "text/plain": [
       "<AxesSubplot:xlabel='sex', ylabel='count'>"
      ]
     },
     "execution_count": 91,
     "metadata": {},
     "output_type": "execute_result"
    },
    {
     "data": {
      "image/png": "[encoded data removed]",
      "text/plain": [
       "<Figure size 432x288 with 1 Axes>"
      ]
     },
     "metadata": {
      "needs_background": "light"
     },
     "output_type": "display_data"
    }
   ],
   "source": [
    "#Tracer des désagrégation des clients par barplot\n",
    "sns.countplot(df.sex)"
   ]
  },
  {
   "cell_type": "code",
   "execution_count": 92,
   "id": "68aee446",
   "metadata": {},
   "outputs": [
    {
     "data": {
      "image/png": "[encoded data removed]",
      "text/plain": [
       "<Figure size 428.625x360 with 1 Axes>"
      ]
     },
     "metadata": {
      "needs_background": "light"
     },
     "output_type": "display_data"
    }
   ],
   "source": [
    "#Distribution de prix par le genre de clients\n",
    "sns.displot(df,x=\"price\",hue=\"sex\",multiple=\"stack\", kde=True, log_scale=True);\n",
    "plt.show()"
   ]
  },
  {
   "cell_type": "code",
   "execution_count": 93,
   "id": "b28a1d02",
   "metadata": {
    "scrolled": true
   },
   "outputs": [
    {
     "data": {
      "text/plain": [
       "0         (16.999, 33.0]\n",
       "1         (16.999, 33.0]\n",
       "2         (16.999, 33.0]\n",
       "3         (16.999, 33.0]\n",
       "4         (16.999, 33.0]\n",
       "               ...      \n",
       "679306    (16.999, 33.0]\n",
       "679307    (16.999, 33.0]\n",
       "679308    (16.999, 33.0]\n",
       "679309    (16.999, 33.0]\n",
       "679310    (16.999, 33.0]\n",
       "Name: class_age, Length: 679111, dtype: category\n",
       "Categories (5, interval[float64, right]): [(16.999, 33.0] < (33.0, 40.0] < (40.0, 45.0] < (45.0, 54.0] < (54.0, 94.0]]"
      ]
     },
     "execution_count": 93,
     "metadata": {},
     "output_type": "execute_result"
    }
   ],
   "source": [
    "#Discrétiser la variable 'age' en 5 sous-groupes et stocker dans une nouvelle variable appelée 'class_age'\n",
    "df['class_age']=pd.qcut(df['age'],5,duplicates='drop')\n",
    "df['class_age']"
   ]
  },
  {
   "cell_type": "code",
   "execution_count": 94,
   "id": "a3f3be9d",
   "metadata": {},
   "outputs": [
    {
     "data": {
      "text/plain": [
       "IntervalIndex([(16.999, 33.0], (33.0, 40.0], (40.0, 45.0], (45.0, 54.0], (54.0, 94.0]], dtype='interval[float64, right]')"
      ]
     },
     "execution_count": 94,
     "metadata": {},
     "output_type": "execute_result"
    }
   ],
   "source": [
    "#Afficher les sous-groupes de class_age\n",
    "df['class_age'].cat.categories"
   ]
  },
  {
   "cell_type": "code",
   "execution_count": 95,
   "id": "9977d7a5",
   "metadata": {
    "scrolled": true
   },
   "outputs": [
    {
     "data": {
      "text/plain": [
       "0         (15.99, 20.99]\n",
       "1         (15.99, 20.99]\n",
       "2          (7.43, 11.86]\n",
       "3         (15.99, 20.99]\n",
       "4          (0.619, 7.43]\n",
       "               ...      \n",
       "679306    (20.99, 300.0]\n",
       "679307    (20.99, 300.0]\n",
       "679308    (20.99, 300.0]\n",
       "679309    (20.99, 300.0]\n",
       "679310    (20.99, 300.0]\n",
       "Name: class_price, Length: 679111, dtype: category\n",
       "Categories (5, interval[float64, right]): [(0.619, 7.43] < (7.43, 11.86] < (11.86, 15.99] < (15.99, 20.99] < (20.99, 300.0]]"
      ]
     },
     "execution_count": 95,
     "metadata": {},
     "output_type": "execute_result"
    }
   ],
   "source": [
    "#Discrétiser la variable 'price' en 5 sous-groupes et stocker dans une nouvelle variable appelée 'class_price'\n",
    "df['class_price']=pd.qcut(df['price'],5, duplicates='drop')\n",
    "df['class_price']"
   ]
  },
  {
   "cell_type": "code",
   "execution_count": 96,
   "id": "f12fd1e3",
   "metadata": {
    "scrolled": true
   },
   "outputs": [
    {
     "data": {
      "text/html": [
       "<div>\n",
       "<style scoped>\n",
       "    .dataframe tbody tr th:only-of-type {\n",
       "        vertical-align: middle;\n",
       "    }\n",
       "\n",
       "    .dataframe tbody tr th {\n",
       "        vertical-align: top;\n",
       "    }\n",
       "\n",
       "    .dataframe thead th {\n",
       "        text-align: right;\n",
       "    }\n",
       "</style>\n",
       "<table border=\"1\" class=\"dataframe\">\n",
       "  <thead>\n",
       "    <tr style=\"text-align: right;\">\n",
       "      <th>class_price</th>\n",
       "      <th>(0.619, 7.43]</th>\n",
       "      <th>(7.43, 11.86]</th>\n",
       "      <th>(11.86, 15.99]</th>\n",
       "      <th>(15.99, 20.99]</th>\n",
       "      <th>(20.99, 300.0]</th>\n",
       "    </tr>\n",
       "    <tr>\n",
       "      <th>class_age</th>\n",
       "      <th></th>\n",
       "      <th></th>\n",
       "      <th></th>\n",
       "      <th></th>\n",
       "      <th></th>\n",
       "    </tr>\n",
       "  </thead>\n",
       "  <tbody>\n",
       "    <tr>\n",
       "      <th>(16.999, 33.0]</th>\n",
       "      <td>20443</td>\n",
       "      <td>21413</td>\n",
       "      <td>23896</td>\n",
       "      <td>21587</td>\n",
       "      <td>52544</td>\n",
       "    </tr>\n",
       "    <tr>\n",
       "      <th>(33.0, 40.0]</th>\n",
       "      <td>34899</td>\n",
       "      <td>33326</td>\n",
       "      <td>32841</td>\n",
       "      <td>25955</td>\n",
       "      <td>15159</td>\n",
       "    </tr>\n",
       "    <tr>\n",
       "      <th>(40.0, 45.0]</th>\n",
       "      <td>33719</td>\n",
       "      <td>31590</td>\n",
       "      <td>31250</td>\n",
       "      <td>24242</td>\n",
       "      <td>14216</td>\n",
       "    </tr>\n",
       "    <tr>\n",
       "      <th>(45.0, 54.0]</th>\n",
       "      <td>28369</td>\n",
       "      <td>28126</td>\n",
       "      <td>30448</td>\n",
       "      <td>26500</td>\n",
       "      <td>21725</td>\n",
       "    </tr>\n",
       "    <tr>\n",
       "      <th>(54.0, 94.0]</th>\n",
       "      <td>18413</td>\n",
       "      <td>21347</td>\n",
       "      <td>27832</td>\n",
       "      <td>27699</td>\n",
       "      <td>31572</td>\n",
       "    </tr>\n",
       "  </tbody>\n",
       "</table>\n",
       "</div>"
      ],
      "text/plain": [
       "class_price     (0.619, 7.43]  (7.43, 11.86]  (11.86, 15.99]  (15.99, 20.99]  \\\n",
       "class_age                                                                      \n",
       "(16.999, 33.0]          20443          21413           23896           21587   \n",
       "(33.0, 40.0]            34899          33326           32841           25955   \n",
       "(40.0, 45.0]            33719          31590           31250           24242   \n",
       "(45.0, 54.0]            28369          28126           30448           26500   \n",
       "(54.0, 94.0]            18413          21347           27832           27699   \n",
       "\n",
       "class_price     (20.99, 300.0]  \n",
       "class_age                       \n",
       "(16.999, 33.0]           52544  \n",
       "(33.0, 40.0]             15159  \n",
       "(40.0, 45.0]             14216  \n",
       "(45.0, 54.0]             21725  \n",
       "(54.0, 94.0]             31572  "
      ]
     },
     "execution_count": 96,
     "metadata": {},
     "output_type": "execute_result"
    }
   ],
   "source": [
    "#A l'aide de tableau croisé des variables 'client_age' et 'prod_price',vérifier s'il y a une influence d'âge sur le prix \n",
    "cross_age_price=pd.crosstab(df['class_age'], df['class_price'])\n",
    "cross_age_price\n"
   ]
  },
  {
   "cell_type": "markdown",
   "id": "45367a9d",
   "metadata": {},
   "source": [
    "Les moins de 33ans ont acheté des livres les plus chers"
   ]
  },
  {
   "cell_type": "markdown",
   "id": "42cb1ad6",
   "metadata": {},
   "source": [
    "### Créer quelques variables additionnelles : des nombres d'achats et des montants d'achats "
   ]
  },
  {
   "cell_type": "code",
   "execution_count": 97,
   "id": "effae6f0",
   "metadata": {},
   "outputs": [
    {
     "data": {
      "text/html": [
       "<div>\n",
       "<style scoped>\n",
       "    .dataframe tbody tr th:only-of-type {\n",
       "        vertical-align: middle;\n",
       "    }\n",
       "\n",
       "    .dataframe tbody tr th {\n",
       "        vertical-align: top;\n",
       "    }\n",
       "\n",
       "    .dataframe thead th {\n",
       "        text-align: right;\n",
       "    }\n",
       "</style>\n",
       "<table border=\"1\" class=\"dataframe\">\n",
       "  <thead>\n",
       "    <tr style=\"text-align: right;\">\n",
       "      <th></th>\n",
       "      <th>id_prod</th>\n",
       "      <th>price</th>\n",
       "      <th>categ</th>\n",
       "      <th>date</th>\n",
       "      <th>session_id</th>\n",
       "      <th>client_id</th>\n",
       "      <th>sex</th>\n",
       "      <th>birth</th>\n",
       "      <th>month_year</th>\n",
       "      <th>year</th>\n",
       "      <th>age</th>\n",
       "      <th>class_age</th>\n",
       "      <th>class_price</th>\n",
       "      <th>nombre_achats</th>\n",
       "    </tr>\n",
       "  </thead>\n",
       "  <tbody>\n",
       "    <tr>\n",
       "      <th>169043</th>\n",
       "      <td>1_616</td>\n",
       "      <td>29.02</td>\n",
       "      <td>1</td>\n",
       "      <td>2022-01-02</td>\n",
       "      <td>s_143801</td>\n",
       "      <td>c_4958</td>\n",
       "      <td>m</td>\n",
       "      <td>1999</td>\n",
       "      <td>2022-01</td>\n",
       "      <td>2022</td>\n",
       "      <td>23</td>\n",
       "      <td>(16.999, 33.0]</td>\n",
       "      <td>(20.99, 300.0]</td>\n",
       "      <td>5195</td>\n",
       "    </tr>\n",
       "    <tr>\n",
       "      <th>171173</th>\n",
       "      <td>2_41</td>\n",
       "      <td>68.99</td>\n",
       "      <td>2</td>\n",
       "      <td>2021-10-11</td>\n",
       "      <td>s_103142</td>\n",
       "      <td>c_4958</td>\n",
       "      <td>m</td>\n",
       "      <td>1999</td>\n",
       "      <td>2021-10</td>\n",
       "      <td>2021</td>\n",
       "      <td>22</td>\n",
       "      <td>(16.999, 33.0]</td>\n",
       "      <td>(20.99, 300.0]</td>\n",
       "      <td>5195</td>\n",
       "    </tr>\n",
       "    <tr>\n",
       "      <th>459054</th>\n",
       "      <td>0_1766</td>\n",
       "      <td>4.55</td>\n",
       "      <td>0</td>\n",
       "      <td>2021-03-27</td>\n",
       "      <td>s_12242</td>\n",
       "      <td>c_5043</td>\n",
       "      <td>f</td>\n",
       "      <td>1971</td>\n",
       "      <td>2021-03</td>\n",
       "      <td>2021</td>\n",
       "      <td>50</td>\n",
       "      <td>(45.0, 54.0]</td>\n",
       "      <td>(0.619, 7.43]</td>\n",
       "      <td>153</td>\n",
       "    </tr>\n",
       "  </tbody>\n",
       "</table>\n",
       "</div>"
      ],
      "text/plain": [
       "       id_prod  price  categ        date session_id client_id sex  birth  \\\n",
       "169043   1_616  29.02      1  2022-01-02   s_143801    c_4958   m   1999   \n",
       "171173    2_41  68.99      2  2021-10-11   s_103142    c_4958   m   1999   \n",
       "459054  0_1766   4.55      0  2021-03-27    s_12242    c_5043   f   1971   \n",
       "\n",
       "       month_year  year  age       class_age     class_price  nombre_achats  \n",
       "169043    2022-01  2022   23  (16.999, 33.0]  (20.99, 300.0]           5195  \n",
       "171173    2021-10  2021   22  (16.999, 33.0]  (20.99, 300.0]           5195  \n",
       "459054    2021-03  2021   50    (45.0, 54.0]   (0.619, 7.43]            153  "
      ]
     },
     "execution_count": 97,
     "metadata": {},
     "output_type": "execute_result"
    }
   ],
   "source": [
    "#Créer et ajouter la colonne de nombre d'achats\n",
    "df = df.merge(\n",
    "    df.groupby('client_id').count()['date'].reset_index().rename(columns={'date': 'nombre_achats'}),\n",
    "    how='left', on='client_id')\n",
    "df.sample(3)"
   ]
  },
  {
   "cell_type": "code",
   "execution_count": 98,
   "id": "13a72736",
   "metadata": {
    "scrolled": false
   },
   "outputs": [
    {
     "data": {
      "text/html": [
       "<div>\n",
       "<style scoped>\n",
       "    .dataframe tbody tr th:only-of-type {\n",
       "        vertical-align: middle;\n",
       "    }\n",
       "\n",
       "    .dataframe tbody tr th {\n",
       "        vertical-align: top;\n",
       "    }\n",
       "\n",
       "    .dataframe thead th {\n",
       "        text-align: right;\n",
       "    }\n",
       "</style>\n",
       "<table border=\"1\" class=\"dataframe\">\n",
       "  <thead>\n",
       "    <tr style=\"text-align: right;\">\n",
       "      <th></th>\n",
       "      <th>id_prod</th>\n",
       "      <th>price</th>\n",
       "      <th>categ</th>\n",
       "      <th>date</th>\n",
       "      <th>session_id</th>\n",
       "      <th>client_id</th>\n",
       "      <th>sex</th>\n",
       "      <th>birth</th>\n",
       "      <th>month_year</th>\n",
       "      <th>year</th>\n",
       "      <th>age</th>\n",
       "      <th>class_age</th>\n",
       "      <th>class_price</th>\n",
       "      <th>nombre_achats</th>\n",
       "      <th>montant_achats</th>\n",
       "    </tr>\n",
       "  </thead>\n",
       "  <tbody>\n",
       "    <tr>\n",
       "      <th>0</th>\n",
       "      <td>0_1421</td>\n",
       "      <td>19.99</td>\n",
       "      <td>0</td>\n",
       "      <td>2022-02-20</td>\n",
       "      <td>s_168213</td>\n",
       "      <td>c_6389</td>\n",
       "      <td>f</td>\n",
       "      <td>1991</td>\n",
       "      <td>2022-02</td>\n",
       "      <td>2022</td>\n",
       "      <td>31</td>\n",
       "      <td>(16.999, 33.0]</td>\n",
       "      <td>(15.99, 20.99]</td>\n",
       "      <td>246</td>\n",
       "      <td>3216.23</td>\n",
       "    </tr>\n",
       "    <tr>\n",
       "      <th>1</th>\n",
       "      <td>0_1421</td>\n",
       "      <td>19.99</td>\n",
       "      <td>0</td>\n",
       "      <td>2022-10-20</td>\n",
       "      <td>s_285450</td>\n",
       "      <td>c_6389</td>\n",
       "      <td>f</td>\n",
       "      <td>1991</td>\n",
       "      <td>2022-10</td>\n",
       "      <td>2022</td>\n",
       "      <td>31</td>\n",
       "      <td>(16.999, 33.0]</td>\n",
       "      <td>(15.99, 20.99]</td>\n",
       "      <td>246</td>\n",
       "      <td>3216.23</td>\n",
       "    </tr>\n",
       "    <tr>\n",
       "      <th>2</th>\n",
       "      <td>0_2131</td>\n",
       "      <td>8.99</td>\n",
       "      <td>0</td>\n",
       "      <td>2021-10-09</td>\n",
       "      <td>s_102458</td>\n",
       "      <td>c_6389</td>\n",
       "      <td>f</td>\n",
       "      <td>1991</td>\n",
       "      <td>2021-10</td>\n",
       "      <td>2021</td>\n",
       "      <td>30</td>\n",
       "      <td>(16.999, 33.0]</td>\n",
       "      <td>(7.43, 11.86]</td>\n",
       "      <td>246</td>\n",
       "      <td>3216.23</td>\n",
       "    </tr>\n",
       "    <tr>\n",
       "      <th>3</th>\n",
       "      <td>0_1635</td>\n",
       "      <td>16.99</td>\n",
       "      <td>0</td>\n",
       "      <td>2021-04-28</td>\n",
       "      <td>s_26841</td>\n",
       "      <td>c_6389</td>\n",
       "      <td>f</td>\n",
       "      <td>1991</td>\n",
       "      <td>2021-04</td>\n",
       "      <td>2021</td>\n",
       "      <td>30</td>\n",
       "      <td>(16.999, 33.0]</td>\n",
       "      <td>(15.99, 20.99]</td>\n",
       "      <td>246</td>\n",
       "      <td>3216.23</td>\n",
       "    </tr>\n",
       "    <tr>\n",
       "      <th>4</th>\n",
       "      <td>0_166</td>\n",
       "      <td>1.83</td>\n",
       "      <td>0</td>\n",
       "      <td>2021-07-15</td>\n",
       "      <td>s_62585</td>\n",
       "      <td>c_6389</td>\n",
       "      <td>f</td>\n",
       "      <td>1991</td>\n",
       "      <td>2021-07</td>\n",
       "      <td>2021</td>\n",
       "      <td>30</td>\n",
       "      <td>(16.999, 33.0]</td>\n",
       "      <td>(0.619, 7.43]</td>\n",
       "      <td>246</td>\n",
       "      <td>3216.23</td>\n",
       "    </tr>\n",
       "  </tbody>\n",
       "</table>\n",
       "</div>"
      ],
      "text/plain": [
       "  id_prod  price  categ        date session_id client_id sex  birth  \\\n",
       "0  0_1421  19.99      0  2022-02-20   s_168213    c_6389   f   1991   \n",
       "1  0_1421  19.99      0  2022-10-20   s_285450    c_6389   f   1991   \n",
       "2  0_2131   8.99      0  2021-10-09   s_102458    c_6389   f   1991   \n",
       "3  0_1635  16.99      0  2021-04-28    s_26841    c_6389   f   1991   \n",
       "4   0_166   1.83      0  2021-07-15    s_62585    c_6389   f   1991   \n",
       "\n",
       "  month_year  year  age       class_age     class_price  nombre_achats  \\\n",
       "0    2022-02  2022   31  (16.999, 33.0]  (15.99, 20.99]            246   \n",
       "1    2022-10  2022   31  (16.999, 33.0]  (15.99, 20.99]            246   \n",
       "2    2021-10  2021   30  (16.999, 33.0]   (7.43, 11.86]            246   \n",
       "3    2021-04  2021   30  (16.999, 33.0]  (15.99, 20.99]            246   \n",
       "4    2021-07  2021   30  (16.999, 33.0]   (0.619, 7.43]            246   \n",
       "\n",
       "   montant_achats  \n",
       "0         3216.23  \n",
       "1         3216.23  \n",
       "2         3216.23  \n",
       "3         3216.23  \n",
       "4         3216.23  "
      ]
     },
     "execution_count": 98,
     "metadata": {},
     "output_type": "execute_result"
    }
   ],
   "source": [
    "#Créer et ajouter la colonne de montant d'achats\n",
    "df = df.merge(\n",
    "    df.pivot_table(\n",
    "    index='client_id', values='price', \n",
    "    aggfunc='sum').reset_index().rename(\n",
    "    columns={'price': 'montant_achats'}),\n",
    "    on='client_id', how='left')\n",
    "df.head()"
   ]
  },
  {
   "cell_type": "markdown",
   "id": "ff0332c8",
   "metadata": {},
   "source": [
    "### La répartition du chiffre d’affaires entre clients"
   ]
  },
  {
   "cell_type": "code",
   "execution_count": 99,
   "id": "bcf5147a",
   "metadata": {},
   "outputs": [
    {
     "data": {
      "text/html": [
       "<div>\n",
       "<style scoped>\n",
       "    .dataframe tbody tr th:only-of-type {\n",
       "        vertical-align: middle;\n",
       "    }\n",
       "\n",
       "    .dataframe tbody tr th {\n",
       "        vertical-align: top;\n",
       "    }\n",
       "\n",
       "    .dataframe thead th {\n",
       "        text-align: right;\n",
       "    }\n",
       "</style>\n",
       "<table border=\"1\" class=\"dataframe\">\n",
       "  <thead>\n",
       "    <tr style=\"text-align: right;\">\n",
       "      <th></th>\n",
       "      <th>client_id</th>\n",
       "      <th>montant_achats</th>\n",
       "      <th>nombre_achats</th>\n",
       "    </tr>\n",
       "  </thead>\n",
       "  <tbody>\n",
       "    <tr>\n",
       "      <th>0</th>\n",
       "      <td>c_1609</td>\n",
       "      <td>324033.35</td>\n",
       "      <td>25488</td>\n",
       "    </tr>\n",
       "    <tr>\n",
       "      <th>1</th>\n",
       "      <td>c_4958</td>\n",
       "      <td>289760.34</td>\n",
       "      <td>5195</td>\n",
       "    </tr>\n",
       "    <tr>\n",
       "      <th>2</th>\n",
       "      <td>c_6714</td>\n",
       "      <td>153598.92</td>\n",
       "      <td>9181</td>\n",
       "    </tr>\n",
       "    <tr>\n",
       "      <th>3</th>\n",
       "      <td>c_3454</td>\n",
       "      <td>113637.93</td>\n",
       "      <td>6770</td>\n",
       "    </tr>\n",
       "    <tr>\n",
       "      <th>4</th>\n",
       "      <td>c_3263</td>\n",
       "      <td>5276.87</td>\n",
       "      <td>403</td>\n",
       "    </tr>\n",
       "    <tr>\n",
       "      <th>5</th>\n",
       "      <td>c_1570</td>\n",
       "      <td>5271.62</td>\n",
       "      <td>369</td>\n",
       "    </tr>\n",
       "    <tr>\n",
       "      <th>6</th>\n",
       "      <td>c_2899</td>\n",
       "      <td>5214.05</td>\n",
       "      <td>105</td>\n",
       "    </tr>\n",
       "    <tr>\n",
       "      <th>7</th>\n",
       "      <td>c_2140</td>\n",
       "      <td>5208.82</td>\n",
       "      <td>402</td>\n",
       "    </tr>\n",
       "    <tr>\n",
       "      <th>8</th>\n",
       "      <td>c_7319</td>\n",
       "      <td>5155.77</td>\n",
       "      <td>371</td>\n",
       "    </tr>\n",
       "    <tr>\n",
       "      <th>9</th>\n",
       "      <td>c_7959</td>\n",
       "      <td>5085.45</td>\n",
       "      <td>369</td>\n",
       "    </tr>\n",
       "  </tbody>\n",
       "</table>\n",
       "</div>"
      ],
      "text/plain": [
       "  client_id  montant_achats  nombre_achats\n",
       "0    c_1609       324033.35          25488\n",
       "1    c_4958       289760.34           5195\n",
       "2    c_6714       153598.92           9181\n",
       "3    c_3454       113637.93           6770\n",
       "4    c_3263         5276.87            403\n",
       "5    c_1570         5271.62            369\n",
       "6    c_2899         5214.05            105\n",
       "7    c_2140         5208.82            402\n",
       "8    c_7319         5155.77            371\n",
       "9    c_7959         5085.45            369"
      ]
     },
     "execution_count": 99,
     "metadata": {},
     "output_type": "execute_result"
    }
   ],
   "source": [
    "#Grouper des clients par chiffres d'affaires, CA, en triant, 4 clients ont leur nombre d'achats sont plus élevé \n",
    "clients_CA = df.pivot_table(\n",
    "    index='client_id', values=[\n",
    "        'montant_achats','nombre_achats']\n",
    "    ).sort_values(by='montant_achats', ascending=False).reset_index()\n",
    "clients_CA.head(10)"
   ]
  },
  {
   "cell_type": "markdown",
   "id": "62fa064e",
   "metadata": {},
   "source": [
    "### Analyser l'inégalité du chiffre d'affaires entre tous les clients via une courbe de Lorenz. "
   ]
  },
  {
   "cell_type": "code",
   "execution_count": 100,
   "id": "d62b4a38",
   "metadata": {},
   "outputs": [
    {
     "name": "stdout",
     "output_type": "stream",
     "text": [
      "Incident de Gini : 0.44638654137401357\n"
     ]
    },
    {
     "data": {
      "image/png": "[encoded data removed]",
      "text/plain": [
       "<Figure size 432x288 with 1 Axes>"
      ]
     },
     "metadata": {
      "needs_background": "light"
     },
     "output_type": "display_data"
    }
   ],
   "source": [
    "# Courbe de Lorenz\n",
    "def lorenz(variable, title):\n",
    "    X = variable.values\n",
    "    X = np.sort(X)\n",
    "    \n",
    "    # Indice de Gini\n",
    "    def gini(array):\n",
    "        array\n",
    "        sorted_array = array.copy()\n",
    "        sorted_array.sort()\n",
    "        n = array.size\n",
    "        coef_ = 2. / n\n",
    "        const_ = (n + 1.) / n\n",
    "        weighted_sum = sum([(i+1)*yi for i, yi in enumerate(sorted_array)])\n",
    "        return coef_*weighted_sum/(sorted_array.sum()) - const_\n",
    "    print('Incident de Gini :', gini(X))\n",
    "    \n",
    "    # Courbe de Lorenz\n",
    "    X_lorenz = X.cumsum() / X.sum()\n",
    "    X_lorenz = np.insert(X_lorenz, 0, 0)\n",
    "    # X_lorenz[0], X_lorenz[-1]\n",
    "    y = np.arange(X_lorenz.size)/(X_lorenz.size-1)\n",
    "    lorenz = pd.DataFrame()\n",
    "    lorenz['X'] = pd.Series(X_lorenz)\n",
    "    lorenz['Y'] = pd.Series(y)\n",
    "    sns.scatterplot(data=lorenz, x='Y', y='X', marker='x')\n",
    "\n",
    "    # Diagonale\n",
    "    a = np.arange(0,1,.01)\n",
    "    x = a\n",
    "    y = a\n",
    "    \n",
    "    # Graphique\n",
    "    sns.lineplot(x=x,y=y)\n",
    "    plt.xlim([0,1])\n",
    "    plt.ylim([0,1])\n",
    "    plt.title(title)\n",
    "    plt.show()\n",
    "    \n",
    "# Inégalité des chiffres d'affaires de tous les clients\n",
    "lorenz(clients_CA['montant_achats'], 'Inégalités de CA entre tous les clients')"
   ]
  },
  {
   "cell_type": "markdown",
   "id": "4f34787f",
   "metadata": {},
   "source": [
    "## Regarder certaines correlations :\n",
    "###  Lien entre genre d'un clients et les catégories des livres achetés avec le Test de Chi 2\n",
    "Le test d'indépendance du χ² mesure la corrélation entre 2 variables qualitatives."
   ]
  },
  {
   "cell_type": "code",
   "execution_count": 101,
   "id": "3fb4a2d1",
   "metadata": {},
   "outputs": [
    {
     "data": {
      "image/png": "[encoded data removed]",
      "text/plain": [
       "<Figure size 720x360 with 2 Axes>"
      ]
     },
     "metadata": {
      "needs_background": "light"
     },
     "output_type": "display_data"
    }
   ],
   "source": [
    "# Triangle de corrélations\n",
    "plt.figure(figsize=(10,5))\n",
    "heatmap = sns.heatmap(df.corr(),mask=np.triu(np.ones_like(df.corr(), dtype=bool)), vmin=-1, vmax=1, annot=True, cmap='BrBG')\n",
    "heatmap.set_title('Triangle de corrélations', fontdict={'fontsize':16}, pad=20)\n",
    "plt.xticks(rotation=45)\n",
    "plt.show()"
   ]
  },
  {
   "cell_type": "code",
   "execution_count": 102,
   "id": "9b51a78c",
   "metadata": {},
   "outputs": [
    {
     "data": {
      "text/html": [
       "<div>\n",
       "<style scoped>\n",
       "    .dataframe tbody tr th:only-of-type {\n",
       "        vertical-align: middle;\n",
       "    }\n",
       "\n",
       "    .dataframe tbody tr th {\n",
       "        vertical-align: top;\n",
       "    }\n",
       "\n",
       "    .dataframe thead th {\n",
       "        text-align: right;\n",
       "    }\n",
       "</style>\n",
       "<table border=\"1\" class=\"dataframe\">\n",
       "  <thead>\n",
       "    <tr style=\"text-align: right;\">\n",
       "      <th>sex</th>\n",
       "      <th>f</th>\n",
       "      <th>m</th>\n",
       "    </tr>\n",
       "    <tr>\n",
       "      <th>categ</th>\n",
       "      <th></th>\n",
       "      <th></th>\n",
       "    </tr>\n",
       "  </thead>\n",
       "  <tbody>\n",
       "    <tr>\n",
       "      <th>0</th>\n",
       "      <td>206103</td>\n",
       "      <td>209356</td>\n",
       "    </tr>\n",
       "    <tr>\n",
       "      <th>1</th>\n",
       "      <td>114899</td>\n",
       "      <td>112270</td>\n",
       "    </tr>\n",
       "    <tr>\n",
       "      <th>2</th>\n",
       "      <td>17283</td>\n",
       "      <td>19200</td>\n",
       "    </tr>\n",
       "  </tbody>\n",
       "</table>\n",
       "</div>"
      ],
      "text/plain": [
       "sex         f       m\n",
       "categ                \n",
       "0      206103  209356\n",
       "1      114899  112270\n",
       "2       17283   19200"
      ]
     },
     "execution_count": 102,
     "metadata": {},
     "output_type": "execute_result"
    }
   ],
   "source": [
    "#Générer la contingency table\n",
    "contingency_tab=pd.crosstab(df['categ'],df['sex'])\n",
    "contingency_tab"
   ]
  },
  {
   "cell_type": "code",
   "execution_count": 103,
   "id": "89411344",
   "metadata": {},
   "outputs": [
    {
     "data": {
      "text/html": [
       "<div>\n",
       "<style scoped>\n",
       "    .dataframe tbody tr th:only-of-type {\n",
       "        vertical-align: middle;\n",
       "    }\n",
       "\n",
       "    .dataframe tbody tr th {\n",
       "        vertical-align: top;\n",
       "    }\n",
       "\n",
       "    .dataframe thead th {\n",
       "        text-align: right;\n",
       "    }\n",
       "</style>\n",
       "<table border=\"1\" class=\"dataframe\">\n",
       "  <thead>\n",
       "    <tr style=\"text-align: right;\">\n",
       "      <th>sex</th>\n",
       "      <th>f</th>\n",
       "      <th>m</th>\n",
       "    </tr>\n",
       "    <tr>\n",
       "      <th>categ</th>\n",
       "      <th></th>\n",
       "      <th></th>\n",
       "    </tr>\n",
       "  </thead>\n",
       "  <tbody>\n",
       "    <tr>\n",
       "      <th>0</th>\n",
       "      <td>0.496085</td>\n",
       "      <td>0.503915</td>\n",
       "    </tr>\n",
       "    <tr>\n",
       "      <th>1</th>\n",
       "      <td>0.505786</td>\n",
       "      <td>0.494214</td>\n",
       "    </tr>\n",
       "    <tr>\n",
       "      <th>2</th>\n",
       "      <td>0.473727</td>\n",
       "      <td>0.526273</td>\n",
       "    </tr>\n",
       "  </tbody>\n",
       "</table>\n",
       "</div>"
      ],
      "text/plain": [
       "sex           f         m\n",
       "categ                    \n",
       "0      0.496085  0.503915\n",
       "1      0.505786  0.494214\n",
       "2      0.473727  0.526273"
      ]
     },
     "execution_count": 103,
     "metadata": {},
     "output_type": "execute_result"
    }
   ],
   "source": [
    "#Transformer en pourcentage\n",
    "contingency_pct=pd.crosstab(df['categ'],df['sex'],normalize='index')\n",
    "contingency_pct"
   ]
  },
  {
   "cell_type": "code",
   "execution_count": 104,
   "id": "f6d83367",
   "metadata": {
    "scrolled": false
   },
   "outputs": [
    {
     "data": {
      "image/png": "[encoded data removed]",
      "text/plain": [
       "<Figure size 864x576 with 2 Axes>"
      ]
     },
     "metadata": {
      "needs_background": "light"
     },
     "output_type": "display_data"
    }
   ],
   "source": [
    "#Heatmap\n",
    "plt.figure(figsize=(12,8))\n",
    "sns.heatmap(contingency_tab,annot=True)\n",
    "ylabel='categ'\n",
    "xlabel='sex'\n",
    "plt.title('Heatmap entre le sexe et la catégorie')\n",
    "plt.savefig('heatmap_sexe-categorie.png', dpi=300, bbox_inches='tight')\n",
    "plt.show()"
   ]
  },
  {
   "cell_type": "code",
   "execution_count": 105,
   "id": "ef25618d",
   "metadata": {},
   "outputs": [
    {
     "name": "stdout",
     "output_type": "stream",
     "text": [
      "Test de Chi 2 (2 catégorielles)\n",
      "Stat = 147.119\n",
      "p-value = 0.00000000000000000000000000000001131\n",
      "H1: Le genre de clients et les catégories des livres achetés ne sont pas independents\n"
     ]
    }
   ],
   "source": [
    "contingency_tab= pd.crosstab(df['categ'], df['sex'], margins=False)\n",
    "stat, p, dof, expected = stats.chi2_contingency(contingency_tab)\n",
    "print('Test de Chi 2 (2 catégorielles)')\n",
    "print('Stat = %.3f\\np-value = %.35f' % (stat, p))\n",
    "if p > 0.05:\n",
    "    print('H0: Le genre de clients et les catégories des livres achetés sont independents')\n",
    "else:\n",
    "    print('H1: Le genre de clients et les catégories des livres achetés ne sont pas independents')"
   ]
  },
  {
   "cell_type": "markdown",
   "id": "e0bcf964",
   "metadata": {},
   "source": [
    "###  Lien entre l'âge des clients et le montant total des achats, la fréquence d'achat"
   ]
  },
  {
   "cell_type": "code",
   "execution_count": null,
   "id": "595da5e2",
   "metadata": {
    "scrolled": false
   },
   "outputs": [],
   "source": [
    "#Analyser la corrélation entre l'âge et la prix en fonctionne de fréquence d'achats\n",
    "sns.scatterplot(data=df,x=\"age\", y=\"price\", hue=\"categ\")\n",
    "plt.title(\"Fréquency d'achats en fonction de l'âge et la prix \", fontsize=16),\n",
    "plt.xlabel(\"age\",fontsize=14)\n",
    "plt.legend(loc='best')\n",
    "plt.show()"
   ]
  },
  {
   "cell_type": "markdown",
   "id": "47d2deaa",
   "metadata": {},
   "source": [
    "Les livres de catégorie 2 qui sont des livres plus chers sont presque exclusivement achetée par les moins de 30 ans. Les plus de 70ans ont achetés plutôt les livres des catégories 0 et 1."
   ]
  },
  {
   "cell_type": "markdown",
   "id": "21476245",
   "metadata": {},
   "source": [
    "### Lien entre l'âge des clients et le montant total des achats avec le Coefficient de corrélation de Pearson, r"
   ]
  },
  {
   "cell_type": "code",
   "execution_count": null,
   "id": "8fc40d40",
   "metadata": {},
   "outputs": [],
   "source": [
    "#Coefficient de corrélation linéaire, r prends des valeurs entre -1 et 1. Le signe du coefficient indicate le sens de la relation\n",
    "r=stats.pearsonr(df['age'],df['montant_achats'])\n",
    "print(r)"
   ]
  },
  {
   "cell_type": "code",
   "execution_count": null,
   "id": "3e774663",
   "metadata": {},
   "outputs": [],
   "source": [
    "#L'explication de r\n",
    "print(f'Il n\\'y a pas de corrélation entre l\\'âge des clients et le montant total des achats')"
   ]
  },
  {
   "cell_type": "markdown",
   "id": "a4de5571",
   "metadata": {},
   "source": [
    "### Lien entre les catégories des livres achetés et la fréquence d'achat avec le Test d'ANOVA\n",
    "#### L'analyse de la variance est utile pour vérifier la corrélation entre une qualitative variable et une quantitative variable "
   ]
  },
  {
   "cell_type": "code",
   "execution_count": null,
   "id": "14ae03bd",
   "metadata": {
    "scrolled": true
   },
   "outputs": [],
   "source": [
    "#Compter la fréquence des achats\n",
    "dt_freq=df.groupby(['client_id','categ'])['id_prod'].count().reset_index().rename(columns={'id_prod':'frequence'})\n",
    "dt_freq"
   ]
  },
  {
   "cell_type": "code",
   "execution_count": null,
   "id": "026fe5c8",
   "metadata": {},
   "outputs": [],
   "source": [
    "#!pip statsmodels\n",
    "import statsmodels.api as sm"
   ]
  },
  {
   "cell_type": "code",
   "execution_count": null,
   "id": "a9a8321c",
   "metadata": {},
   "outputs": [],
   "source": [
    "#Télécharger l'ols'(ordinary least squares)function\n",
    "from statsmodels.formula.api import ols"
   ]
  },
  {
   "cell_type": "code",
   "execution_count": null,
   "id": "67dc4b7d",
   "metadata": {},
   "outputs": [],
   "source": [
    "#Créer un model avec la fonction 'ols'; Inputer le scale variable suivre par ~ et le nominal variable après adapter\n",
    "model=ols('categ ~ frequence', data=dt_freq).fit()\n",
    "aovRes= sm.stats.anova_lm(model, typ=2)\n",
    "aovRes"
   ]
  },
  {
   "cell_type": "code",
   "execution_count": null,
   "id": "8f40eeab",
   "metadata": {
    "scrolled": false
   },
   "outputs": [],
   "source": [
    "if p > 0.05:\n",
    "    print('H0: Les moyennes des categ et des frequence sont égal')\n",
    "else:\n",
    "    print('H1: Les moyennes des categ et des frequence ne sont pas égal'\n",
    "         '\\n\\nConditions :'\n",
    "         '\\n1. Normalité des résidus\\n2. Homoscédasticité')"
   ]
  },
  {
   "cell_type": "markdown",
   "id": "ff3c0039",
   "metadata": {},
   "source": [
    "### Le lien entre la taille du panier moyen et les catégories des livres achetés avec le Test d'ANOVA"
   ]
  },
  {
   "cell_type": "code",
   "execution_count": null,
   "id": "93168509",
   "metadata": {},
   "outputs": [],
   "source": [
    "#Créer un model avec la fonction 'ols'; Inputer le scale variable suivre par ~ et le nominal variable après adapter\n",
    "model=ols('price ~ categ', data=df).fit()\n",
    "aovRes= sm.stats.anova_lm(model, typ=2)\n",
    "aovRes"
   ]
  },
  {
   "cell_type": "code",
   "execution_count": null,
   "id": "f65fd229",
   "metadata": {},
   "outputs": [],
   "source": [
    "if p > 0.05:\n",
    "    print('H0: Les moyennes des price et categ sont égal')\n",
    "else:\n",
    "    print('H1: Les moyennes des price et categ ne sont pas égal'\n",
    "         '\\n\\nConditions :'\n",
    "         '\\n1. Normalité des résidus\\n2. Homoscédasticité')"
   ]
  },
  {
   "cell_type": "code",
   "execution_count": null,
   "id": "b6a91f44",
   "metadata": {},
   "outputs": [],
   "source": []
  }
 ],
 "metadata": {
  "kernelspec": {
   "display_name": "Python 3 (ipykernel)",
   "language": "python",
   "name": "python3"
  },
  "language_info": {
   "codemirror_mode": {
    "name": "ipython",
    "version": 3
   },
   "file_extension": ".py",
   "mimetype": "text/x-python",
   "name": "python",
   "nbconvert_exporter": "python",
   "pygments_lexer": "ipython3",
   "version": "3.9.12"
  }
 },
 "nbformat": 4,
 "nbformat_minor": 5
}
